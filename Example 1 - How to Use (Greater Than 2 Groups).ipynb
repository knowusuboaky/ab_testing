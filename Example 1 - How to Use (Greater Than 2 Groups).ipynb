{
 "cells": [
  {
   "cell_type": "markdown",
   "metadata": {},
   "source": [
    "# Example of Use"
   ]
  },
  {
   "cell_type": "markdown",
   "metadata": {},
   "source": [
    "## Installation of Package\n"
   ]
  },
  {
   "cell_type": "code",
   "execution_count": 1,
   "metadata": {},
   "outputs": [],
   "source": [
    "#!pip install ab-testing-module"
   ]
  },
  {
   "cell_type": "markdown",
   "metadata": {},
   "source": [
    "## Data"
   ]
  },
  {
   "cell_type": "code",
   "execution_count": 2,
   "metadata": {},
   "outputs": [
    {
     "data": {
      "text/html": [
       "<div>\n",
       "<style scoped>\n",
       "    .dataframe tbody tr th:only-of-type {\n",
       "        vertical-align: middle;\n",
       "    }\n",
       "\n",
       "    .dataframe tbody tr th {\n",
       "        vertical-align: top;\n",
       "    }\n",
       "\n",
       "    .dataframe thead th {\n",
       "        text-align: right;\n",
       "    }\n",
       "</style>\n",
       "<table border=\"1\" class=\"dataframe\">\n",
       "  <thead>\n",
       "    <tr style=\"text-align: right;\">\n",
       "      <th></th>\n",
       "      <th>group</th>\n",
       "      <th>outcome</th>\n",
       "    </tr>\n",
       "  </thead>\n",
       "  <tbody>\n",
       "    <tr>\n",
       "      <th>0</th>\n",
       "      <td>treatment2</td>\n",
       "      <td>0.150659</td>\n",
       "    </tr>\n",
       "    <tr>\n",
       "      <th>1</th>\n",
       "      <td>control</td>\n",
       "      <td>0.984285</td>\n",
       "    </tr>\n",
       "    <tr>\n",
       "      <th>2</th>\n",
       "      <td>treatment2</td>\n",
       "      <td>-0.330074</td>\n",
       "    </tr>\n",
       "    <tr>\n",
       "      <th>3</th>\n",
       "      <td>treatment2</td>\n",
       "      <td>0.974712</td>\n",
       "    </tr>\n",
       "    <tr>\n",
       "      <th>4</th>\n",
       "      <td>control</td>\n",
       "      <td>1.343168</td>\n",
       "    </tr>\n",
       "  </tbody>\n",
       "</table>\n",
       "</div>"
      ],
      "text/plain": [
       "        group   outcome\n",
       "0  treatment2  0.150659\n",
       "1     control  0.984285\n",
       "2  treatment2 -0.330074\n",
       "3  treatment2  0.974712\n",
       "4     control  1.343168"
      ]
     },
     "execution_count": 2,
     "metadata": {},
     "output_type": "execute_result"
    }
   ],
   "source": [
    "import numpy as np\n",
    "import pandas as pd\n",
    "\n",
    "# Create a sample DataFrame to use with the ab_test function\n",
    "\n",
    "np.random.seed(42) # For reproducibility\n",
    "\n",
    "# Generate some sample data\n",
    "data = {\n",
    "    'group': np.random.choice(['control', 'treatment1', 'treatment2'], size=300),\n",
    "    'outcome': np.random.normal(loc=0, scale=1, size=300) + np.random.choice([0, 0.5, 1], size=300)\n",
    "}\n",
    "\n",
    "df = pd.DataFrame(data)\n",
    "\n",
    "# Display the first few rows of the DataFrame\n",
    "df.head()\n",
    "\n"
   ]
  },
  {
   "cell_type": "markdown",
   "metadata": {},
   "source": [
    "## Data Visualization / Data Exploration"
   ]
  },
  {
   "cell_type": "code",
   "execution_count": 3,
   "metadata": {},
   "outputs": [],
   "source": [
    "## Import library\n",
    "from ab_testing_module import data_viz"
   ]
  },
  {
   "cell_type": "code",
   "execution_count": 4,
   "metadata": {},
   "outputs": [
    {
     "data": {
      "application/vnd.plotly.v1+json": {
       "config": {
        "plotlyServerURL": "https://plot.ly"
       },
       "data": [
        {
         "alignmentgroup": "True",
         "hovertemplate": "group=%{x}<br>outcome=%{y}<extra></extra>",
         "legendgroup": "treatment2",
         "marker": {
          "color": "#1F77B4"
         },
         "name": "treatment2",
         "notched": false,
         "offsetgroup": "treatment2",
         "orientation": "v",
         "showlegend": true,
         "type": "box",
         "x": [
          "treatment2",
          "treatment2",
          "treatment2",
          "treatment2",
          "treatment2",
          "treatment2",
          "treatment2",
          "treatment2",
          "treatment2",
          "treatment2",
          "treatment2",
          "treatment2",
          "treatment2",
          "treatment2",
          "treatment2",
          "treatment2",
          "treatment2",
          "treatment2",
          "treatment2",
          "treatment2",
          "treatment2",
          "treatment2",
          "treatment2",
          "treatment2",
          "treatment2",
          "treatment2",
          "treatment2",
          "treatment2",
          "treatment2",
          "treatment2",
          "treatment2",
          "treatment2",
          "treatment2",
          "treatment2",
          "treatment2",
          "treatment2",
          "treatment2",
          "treatment2",
          "treatment2",
          "treatment2",
          "treatment2",
          "treatment2",
          "treatment2",
          "treatment2",
          "treatment2",
          "treatment2",
          "treatment2",
          "treatment2",
          "treatment2",
          "treatment2",
          "treatment2",
          "treatment2",
          "treatment2",
          "treatment2",
          "treatment2",
          "treatment2",
          "treatment2",
          "treatment2",
          "treatment2",
          "treatment2",
          "treatment2",
          "treatment2",
          "treatment2",
          "treatment2",
          "treatment2",
          "treatment2",
          "treatment2",
          "treatment2",
          "treatment2",
          "treatment2",
          "treatment2",
          "treatment2",
          "treatment2",
          "treatment2",
          "treatment2",
          "treatment2",
          "treatment2",
          "treatment2",
          "treatment2",
          "treatment2",
          "treatment2",
          "treatment2",
          "treatment2",
          "treatment2",
          "treatment2",
          "treatment2",
          "treatment2",
          "treatment2",
          "treatment2",
          "treatment2",
          "treatment2",
          "treatment2",
          "treatment2",
          "treatment2",
          "treatment2",
          "treatment2",
          "treatment2",
          "treatment2",
          "treatment2",
          "treatment2",
          "treatment2",
          "treatment2",
          "treatment2",
          "treatment2",
          "treatment2",
          "treatment2",
          "treatment2"
         ],
         "x0": " ",
         "xaxis": "x",
         "y": [
          0.1506590434832807,
          -0.3300740655147849,
          0.974712374428872,
          -0.9598946321139062,
          1.6342402962642897,
          4.06109521437826,
          -1.3185701607581126,
          0.7203872420381966,
          0.5592812840531959,
          -0.34890118277275145,
          1.6061293630990847,
          -1.9442295937495997,
          0.05062981091516631,
          -0.10937337588441354,
          -1.8180682481878288,
          0.7319816481571275,
          -0.33541102407083956,
          -0.5802008700404855,
          -1.3056975540410904,
          -1.1830396113350525,
          -0.6871751753325103,
          0.5683512511038289,
          2.8895476561265827,
          0.32419526577860336,
          0.10859818791816822,
          0.06605840098994831,
          0.26730779869615573,
          -0.135717382318232,
          -0.31935507781477807,
          0.7289704322304376,
          1.0998966337110059,
          0.5799525353724839,
          0.6392041109568162,
          0.0018136111946762308,
          2.4335426294299918,
          0.9138748372508074,
          1.1481817313791491,
          1.2491056769643236,
          -0.2709622621677387,
          1.5606385788214105,
          -0.168974827316685,
          -0.2673823015123351,
          0.06997461415008394,
          1.7302113536443784,
          2.5549226766366018,
          -0.23823085114834974,
          2.951280085735754,
          0.40992136681979324,
          -0.00588005323429408,
          1.4945998918817143,
          2.1783055098228954,
          1.6108203093925022,
          1.027960427026474,
          0.2289785381885402,
          -1.0340651186989278,
          1.3630696033373086,
          -0.3259731409814887,
          3.7539851260876063,
          -0.34273509648692224,
          1.392041889732596,
          3.024720998001007,
          -0.8532599420379767,
          0.4857194522949053,
          -0.00544227379186335,
          -1.0816539256145454,
          2.0606924631803016,
          0.8261904736542662,
          -1.0193414672400714,
          1.8319581865745111,
          -1.375778638563943,
          0.6475581090137137,
          1.3401711592784253,
          1.6333420250690736,
          0.5990933258291411,
          0.28517532464965356,
          -0.39723633136130576,
          0.7651516664106924,
          2.0891441322025512,
          0.9505204472168021,
          -0.14532220919748629,
          -0.6006110090276338,
          -1.5145748438162376,
          -0.12278874915751475,
          1.399596647852733,
          -0.4474280242581382,
          1.8723777965472466,
          0.6249893716301859,
          0.3058540464925059,
          1.1098600730432486,
          2.4115296065094283,
          1.3195375788687147,
          1.193278061849386,
          2.5961429439016337,
          2.3559703853081917,
          -0.3485206993879135,
          -2.9781692136365563,
          -0.2682630619495127,
          -0.563258611460363,
          3.5392577912108925,
          1.3233525162789652,
          2.05245274174549,
          -2.0292308550939886,
          2.9613034719636375,
          0.7367582874280403,
          0.2276023209304917,
          0.5861056047234005,
          1.3755880679916455
         ],
         "y0": " ",
         "yaxis": "y"
        },
        {
         "alignmentgroup": "True",
         "hovertemplate": "group=%{x}<br>outcome=%{y}<extra></extra>",
         "legendgroup": "control",
         "marker": {
          "color": "#FF7F0E"
         },
         "name": "control",
         "notched": false,
         "offsetgroup": "control",
         "orientation": "v",
         "showlegend": true,
         "type": "box",
         "x": [
          "control",
          "control",
          "control",
          "control",
          "control",
          "control",
          "control",
          "control",
          "control",
          "control",
          "control",
          "control",
          "control",
          "control",
          "control",
          "control",
          "control",
          "control",
          "control",
          "control",
          "control",
          "control",
          "control",
          "control",
          "control",
          "control",
          "control",
          "control",
          "control",
          "control",
          "control",
          "control",
          "control",
          "control",
          "control",
          "control",
          "control",
          "control",
          "control",
          "control",
          "control",
          "control",
          "control",
          "control",
          "control",
          "control",
          "control",
          "control",
          "control",
          "control",
          "control",
          "control",
          "control",
          "control",
          "control",
          "control",
          "control",
          "control",
          "control",
          "control",
          "control",
          "control",
          "control",
          "control",
          "control",
          "control",
          "control",
          "control",
          "control",
          "control",
          "control",
          "control",
          "control",
          "control",
          "control",
          "control",
          "control",
          "control",
          "control",
          "control",
          "control",
          "control",
          "control",
          "control",
          "control",
          "control",
          "control",
          "control",
          "control",
          "control",
          "control",
          "control",
          "control",
          "control",
          "control",
          "control",
          "control",
          "control",
          "control"
         ],
         "x0": " ",
         "xaxis": "x",
         "y": [
          0.9842850601475533,
          1.343168212296779,
          -0.23454764994752642,
          0.8158909071523157,
          0.47027464231260996,
          -0.3731191896503628,
          1.0035970641448175,
          -0.011583319781993704,
          0.6905987051145228,
          1.106975709568625,
          2.096329789541089,
          0.6351125509019792,
          -0.7507618430676728,
          -0.025499869720156054,
          2.7789243438859614,
          -0.9359008193740319,
          0.9949956541916949,
          0.09059116942844231,
          0.5449668260124338,
          1.0186944577177797,
          0.20649498232738916,
          0.657201855097078,
          0.38452659007626727,
          -0.20461650547758856,
          2.7448066060105636,
          0.21239808964112838,
          1.9236244121452792,
          -1.1835731679445378,
          0.6606137068218032,
          0.18472906347807627,
          1.1990923818599892,
          0.518751866176494,
          -2.093794004035063,
          0.7559352817916524,
          1.0677683677576248,
          2.1724357823922427,
          0.22698430121934968,
          0.44628934800191805,
          0.5014267570260816,
          -0.045037615347091386,
          -0.29122436219746994,
          -0.9812003352375493,
          0.9599148626269969,
          0.5294355116538028,
          -1.3744688748595117,
          1.5436756453687497,
          2.1443715354746837,
          1.3578646587884662,
          -1.3420073040533562,
          -1.0449989485969975,
          -0.12452524759368423,
          -0.20020489573106967,
          0.7693176542525386,
          1.4045828951175248,
          0.09007258698166123,
          0.07900901424405643,
          0.182631214729357,
          0.458441296561979,
          0.6862123438946257,
          -0.954390128572995,
          -2.3395965636433984,
          -0.35153679862044995,
          0.4257985511923209,
          2.09015771901085,
          1.471641954448069,
          -1.4199616329916904,
          0.15306626275233692,
          -2.064341981460694,
          0.528080258709859,
          0.21720647789306466,
          -0.47187752411786926,
          -0.05618114580198841,
          2.5258299572508314,
          0.012770792327074898,
          0.008836471250542766,
          -0.7091223895609857,
          -0.825610275502588,
          1.179659669163419,
          1.7802751644200017,
          1.3406152512883598,
          0.9862220447328081,
          1.1535318720078684,
          1.1010539442115366,
          0.35572481983205206,
          -0.6492472783337095,
          0.06375497172204381,
          1.3331732948398245,
          -0.3899103910097781,
          1.6496230788330823,
          0.7334657964802429,
          0.05407087426048632,
          1.2403511560774776,
          0.7511949722196741,
          0.04620333502784402,
          2.9059072369269945,
          -0.1946702618774796,
          2.2059152072425854,
          -0.371589379723124,
          1.4850941116132752
         ],
         "y0": " ",
         "yaxis": "y"
        },
        {
         "alignmentgroup": "True",
         "hovertemplate": "group=%{x}<br>outcome=%{y}<extra></extra>",
         "legendgroup": "treatment1",
         "marker": {
          "color": "#2CA02C"
         },
         "name": "treatment1",
         "notched": false,
         "offsetgroup": "treatment1",
         "orientation": "v",
         "showlegend": true,
         "type": "box",
         "x": [
          "treatment1",
          "treatment1",
          "treatment1",
          "treatment1",
          "treatment1",
          "treatment1",
          "treatment1",
          "treatment1",
          "treatment1",
          "treatment1",
          "treatment1",
          "treatment1",
          "treatment1",
          "treatment1",
          "treatment1",
          "treatment1",
          "treatment1",
          "treatment1",
          "treatment1",
          "treatment1",
          "treatment1",
          "treatment1",
          "treatment1",
          "treatment1",
          "treatment1",
          "treatment1",
          "treatment1",
          "treatment1",
          "treatment1",
          "treatment1",
          "treatment1",
          "treatment1",
          "treatment1",
          "treatment1",
          "treatment1",
          "treatment1",
          "treatment1",
          "treatment1",
          "treatment1",
          "treatment1",
          "treatment1",
          "treatment1",
          "treatment1",
          "treatment1",
          "treatment1",
          "treatment1",
          "treatment1",
          "treatment1",
          "treatment1",
          "treatment1",
          "treatment1",
          "treatment1",
          "treatment1",
          "treatment1",
          "treatment1",
          "treatment1",
          "treatment1",
          "treatment1",
          "treatment1",
          "treatment1",
          "treatment1",
          "treatment1",
          "treatment1",
          "treatment1",
          "treatment1",
          "treatment1",
          "treatment1",
          "treatment1",
          "treatment1",
          "treatment1",
          "treatment1",
          "treatment1",
          "treatment1",
          "treatment1",
          "treatment1",
          "treatment1",
          "treatment1",
          "treatment1",
          "treatment1",
          "treatment1",
          "treatment1",
          "treatment1",
          "treatment1",
          "treatment1",
          "treatment1",
          "treatment1",
          "treatment1",
          "treatment1",
          "treatment1",
          "treatment1",
          "treatment1",
          "treatment1",
          "treatment1",
          "treatment1"
         ],
         "x0": " ",
         "xaxis": "x",
         "y": [
          1.6049282184501492,
          0.9105122184946679,
          -1.9363762099846002,
          -0.34735752811264364,
          1.3644334473203186,
          1.1720289038044003,
          3.283938046489837,
          0.46881320183315583,
          0.8363987637862524,
          0.7825430230959759,
          -0.47525734840047573,
          0.18647890303997672,
          1.4497740384887337,
          0.3330566250434873,
          -1.191818256250303,
          1.1567973311639799,
          -0.18326562145441905,
          0.33469038544643753,
          0.08658746267758477,
          0.5872383868098936,
          1.5956436518043213,
          -1.491537786531414,
          1.426025866834002,
          0.4587145583600326,
          0.7768230044256033,
          0.45235628884295565,
          1.4380225974216752,
          2.663769789448251,
          0.2607635685448928,
          -0.10719447516112607,
          0.5137827142468758,
          1.5929817942594646,
          -0.5782769139641375,
          0.13155001091330326,
          0.8317085769758473,
          0.2710617487422633,
          0.5314000109603296,
          1.8089568290201625,
          1.6362423171192628,
          0.1319157745955125,
          0.6102995786334215,
          0.17534867234892748,
          0.8161082622719796,
          1.0507439588552665,
          0.13223721734697313,
          0.4522765170406712,
          0.37314213046184563,
          0.7019074418027955,
          -0.304736685075496,
          -1.4406527388068167,
          2.8136665758789077,
          1.082730435800479,
          0.7415822641825645,
          1.1834823201410025,
          -0.8567854844185623,
          0.7374852516219397,
          2.3265038874367736,
          0.2756662046529006,
          -0.49197432545884934,
          0.5360265349048582,
          -0.039745359324594,
          -0.04524962373931993,
          2.1427258832938323,
          -0.8967472201829223,
          0.3319292107944699,
          0.36690941709697406,
          0.20949686263235864,
          -0.8755617880319608,
          -0.7569060905115959,
          -0.8750788228681176,
          -0.7712054615817139,
          0.0051065724347190145,
          1.6488932412535497,
          1.1510799621527283,
          -1.2317307675098257,
          0.1895849201605889,
          -0.17778609299338444,
          0.8424569180075144,
          -0.7396187694293522,
          -0.25790216454354326,
          -0.5179122558056343,
          0.8928253642988553,
          2.396793578770243,
          1.0252117126909477,
          1.3026522556074296,
          0.5348092900812669,
          1.4196729775437447,
          1.4607370675639193,
          -1.0231608704717607,
          -1.5625256739117495,
          3.3419752025129954,
          -0.10185479998176072,
          1.6117927657184359,
          0.18704445188134666
         ],
         "y0": " ",
         "yaxis": "y"
        }
       ],
       "layout": {
        "annotations": [
         {
          "align": "center",
          "showarrow": false,
          "text": "Interpretation of the Boxplot:\n<br>Outliers indicate variance. Groups with the most outliers: treatment2, control, treatment1.\n",
          "x": 0.5,
          "xanchor": "center",
          "xref": "paper",
          "y": -0.2,
          "yanchor": "top",
          "yref": "paper"
         }
        ],
        "autosize": false,
        "boxmode": "overlay",
        "height": 600,
        "legend": {
         "title": {
          "text": "group"
         },
         "tracegroupgap": 0
        },
        "margin": {
         "b": 150,
         "t": 50
        },
        "template": {
         "data": {
          "bar": [
           {
            "error_x": {
             "color": "rgb(36,36,36)"
            },
            "error_y": {
             "color": "rgb(36,36,36)"
            },
            "marker": {
             "line": {
              "color": "white",
              "width": 0.5
             },
             "pattern": {
              "fillmode": "overlay",
              "size": 10,
              "solidity": 0.2
             }
            },
            "type": "bar"
           }
          ],
          "barpolar": [
           {
            "marker": {
             "line": {
              "color": "white",
              "width": 0.5
             },
             "pattern": {
              "fillmode": "overlay",
              "size": 10,
              "solidity": 0.2
             }
            },
            "type": "barpolar"
           }
          ],
          "carpet": [
           {
            "aaxis": {
             "endlinecolor": "rgb(36,36,36)",
             "gridcolor": "white",
             "linecolor": "white",
             "minorgridcolor": "white",
             "startlinecolor": "rgb(36,36,36)"
            },
            "baxis": {
             "endlinecolor": "rgb(36,36,36)",
             "gridcolor": "white",
             "linecolor": "white",
             "minorgridcolor": "white",
             "startlinecolor": "rgb(36,36,36)"
            },
            "type": "carpet"
           }
          ],
          "choropleth": [
           {
            "colorbar": {
             "outlinewidth": 1,
             "tickcolor": "rgb(36,36,36)",
             "ticks": "outside"
            },
            "type": "choropleth"
           }
          ],
          "contour": [
           {
            "colorbar": {
             "outlinewidth": 1,
             "tickcolor": "rgb(36,36,36)",
             "ticks": "outside"
            },
            "colorscale": [
             [
              0,
              "#440154"
             ],
             [
              0.1111111111111111,
              "#482878"
             ],
             [
              0.2222222222222222,
              "#3e4989"
             ],
             [
              0.3333333333333333,
              "#31688e"
             ],
             [
              0.4444444444444444,
              "#26828e"
             ],
             [
              0.5555555555555556,
              "#1f9e89"
             ],
             [
              0.6666666666666666,
              "#35b779"
             ],
             [
              0.7777777777777778,
              "#6ece58"
             ],
             [
              0.8888888888888888,
              "#b5de2b"
             ],
             [
              1,
              "#fde725"
             ]
            ],
            "type": "contour"
           }
          ],
          "contourcarpet": [
           {
            "colorbar": {
             "outlinewidth": 1,
             "tickcolor": "rgb(36,36,36)",
             "ticks": "outside"
            },
            "type": "contourcarpet"
           }
          ],
          "heatmap": [
           {
            "colorbar": {
             "outlinewidth": 1,
             "tickcolor": "rgb(36,36,36)",
             "ticks": "outside"
            },
            "colorscale": [
             [
              0,
              "#440154"
             ],
             [
              0.1111111111111111,
              "#482878"
             ],
             [
              0.2222222222222222,
              "#3e4989"
             ],
             [
              0.3333333333333333,
              "#31688e"
             ],
             [
              0.4444444444444444,
              "#26828e"
             ],
             [
              0.5555555555555556,
              "#1f9e89"
             ],
             [
              0.6666666666666666,
              "#35b779"
             ],
             [
              0.7777777777777778,
              "#6ece58"
             ],
             [
              0.8888888888888888,
              "#b5de2b"
             ],
             [
              1,
              "#fde725"
             ]
            ],
            "type": "heatmap"
           }
          ],
          "heatmapgl": [
           {
            "colorbar": {
             "outlinewidth": 1,
             "tickcolor": "rgb(36,36,36)",
             "ticks": "outside"
            },
            "colorscale": [
             [
              0,
              "#440154"
             ],
             [
              0.1111111111111111,
              "#482878"
             ],
             [
              0.2222222222222222,
              "#3e4989"
             ],
             [
              0.3333333333333333,
              "#31688e"
             ],
             [
              0.4444444444444444,
              "#26828e"
             ],
             [
              0.5555555555555556,
              "#1f9e89"
             ],
             [
              0.6666666666666666,
              "#35b779"
             ],
             [
              0.7777777777777778,
              "#6ece58"
             ],
             [
              0.8888888888888888,
              "#b5de2b"
             ],
             [
              1,
              "#fde725"
             ]
            ],
            "type": "heatmapgl"
           }
          ],
          "histogram": [
           {
            "marker": {
             "line": {
              "color": "white",
              "width": 0.6
             }
            },
            "type": "histogram"
           }
          ],
          "histogram2d": [
           {
            "colorbar": {
             "outlinewidth": 1,
             "tickcolor": "rgb(36,36,36)",
             "ticks": "outside"
            },
            "colorscale": [
             [
              0,
              "#440154"
             ],
             [
              0.1111111111111111,
              "#482878"
             ],
             [
              0.2222222222222222,
              "#3e4989"
             ],
             [
              0.3333333333333333,
              "#31688e"
             ],
             [
              0.4444444444444444,
              "#26828e"
             ],
             [
              0.5555555555555556,
              "#1f9e89"
             ],
             [
              0.6666666666666666,
              "#35b779"
             ],
             [
              0.7777777777777778,
              "#6ece58"
             ],
             [
              0.8888888888888888,
              "#b5de2b"
             ],
             [
              1,
              "#fde725"
             ]
            ],
            "type": "histogram2d"
           }
          ],
          "histogram2dcontour": [
           {
            "colorbar": {
             "outlinewidth": 1,
             "tickcolor": "rgb(36,36,36)",
             "ticks": "outside"
            },
            "colorscale": [
             [
              0,
              "#440154"
             ],
             [
              0.1111111111111111,
              "#482878"
             ],
             [
              0.2222222222222222,
              "#3e4989"
             ],
             [
              0.3333333333333333,
              "#31688e"
             ],
             [
              0.4444444444444444,
              "#26828e"
             ],
             [
              0.5555555555555556,
              "#1f9e89"
             ],
             [
              0.6666666666666666,
              "#35b779"
             ],
             [
              0.7777777777777778,
              "#6ece58"
             ],
             [
              0.8888888888888888,
              "#b5de2b"
             ],
             [
              1,
              "#fde725"
             ]
            ],
            "type": "histogram2dcontour"
           }
          ],
          "mesh3d": [
           {
            "colorbar": {
             "outlinewidth": 1,
             "tickcolor": "rgb(36,36,36)",
             "ticks": "outside"
            },
            "type": "mesh3d"
           }
          ],
          "parcoords": [
           {
            "line": {
             "colorbar": {
              "outlinewidth": 1,
              "tickcolor": "rgb(36,36,36)",
              "ticks": "outside"
             }
            },
            "type": "parcoords"
           }
          ],
          "pie": [
           {
            "automargin": true,
            "type": "pie"
           }
          ],
          "scatter": [
           {
            "fillpattern": {
             "fillmode": "overlay",
             "size": 10,
             "solidity": 0.2
            },
            "type": "scatter"
           }
          ],
          "scatter3d": [
           {
            "line": {
             "colorbar": {
              "outlinewidth": 1,
              "tickcolor": "rgb(36,36,36)",
              "ticks": "outside"
             }
            },
            "marker": {
             "colorbar": {
              "outlinewidth": 1,
              "tickcolor": "rgb(36,36,36)",
              "ticks": "outside"
             }
            },
            "type": "scatter3d"
           }
          ],
          "scattercarpet": [
           {
            "marker": {
             "colorbar": {
              "outlinewidth": 1,
              "tickcolor": "rgb(36,36,36)",
              "ticks": "outside"
             }
            },
            "type": "scattercarpet"
           }
          ],
          "scattergeo": [
           {
            "marker": {
             "colorbar": {
              "outlinewidth": 1,
              "tickcolor": "rgb(36,36,36)",
              "ticks": "outside"
             }
            },
            "type": "scattergeo"
           }
          ],
          "scattergl": [
           {
            "marker": {
             "colorbar": {
              "outlinewidth": 1,
              "tickcolor": "rgb(36,36,36)",
              "ticks": "outside"
             }
            },
            "type": "scattergl"
           }
          ],
          "scattermapbox": [
           {
            "marker": {
             "colorbar": {
              "outlinewidth": 1,
              "tickcolor": "rgb(36,36,36)",
              "ticks": "outside"
             }
            },
            "type": "scattermapbox"
           }
          ],
          "scatterpolar": [
           {
            "marker": {
             "colorbar": {
              "outlinewidth": 1,
              "tickcolor": "rgb(36,36,36)",
              "ticks": "outside"
             }
            },
            "type": "scatterpolar"
           }
          ],
          "scatterpolargl": [
           {
            "marker": {
             "colorbar": {
              "outlinewidth": 1,
              "tickcolor": "rgb(36,36,36)",
              "ticks": "outside"
             }
            },
            "type": "scatterpolargl"
           }
          ],
          "scatterternary": [
           {
            "marker": {
             "colorbar": {
              "outlinewidth": 1,
              "tickcolor": "rgb(36,36,36)",
              "ticks": "outside"
             }
            },
            "type": "scatterternary"
           }
          ],
          "surface": [
           {
            "colorbar": {
             "outlinewidth": 1,
             "tickcolor": "rgb(36,36,36)",
             "ticks": "outside"
            },
            "colorscale": [
             [
              0,
              "#440154"
             ],
             [
              0.1111111111111111,
              "#482878"
             ],
             [
              0.2222222222222222,
              "#3e4989"
             ],
             [
              0.3333333333333333,
              "#31688e"
             ],
             [
              0.4444444444444444,
              "#26828e"
             ],
             [
              0.5555555555555556,
              "#1f9e89"
             ],
             [
              0.6666666666666666,
              "#35b779"
             ],
             [
              0.7777777777777778,
              "#6ece58"
             ],
             [
              0.8888888888888888,
              "#b5de2b"
             ],
             [
              1,
              "#fde725"
             ]
            ],
            "type": "surface"
           }
          ],
          "table": [
           {
            "cells": {
             "fill": {
              "color": "rgb(237,237,237)"
             },
             "line": {
              "color": "white"
             }
            },
            "header": {
             "fill": {
              "color": "rgb(217,217,217)"
             },
             "line": {
              "color": "white"
             }
            },
            "type": "table"
           }
          ]
         },
         "layout": {
          "annotationdefaults": {
           "arrowhead": 0,
           "arrowwidth": 1
          },
          "autotypenumbers": "strict",
          "coloraxis": {
           "colorbar": {
            "outlinewidth": 1,
            "tickcolor": "rgb(36,36,36)",
            "ticks": "outside"
           }
          },
          "colorscale": {
           "diverging": [
            [
             0,
             "rgb(103,0,31)"
            ],
            [
             0.1,
             "rgb(178,24,43)"
            ],
            [
             0.2,
             "rgb(214,96,77)"
            ],
            [
             0.3,
             "rgb(244,165,130)"
            ],
            [
             0.4,
             "rgb(253,219,199)"
            ],
            [
             0.5,
             "rgb(247,247,247)"
            ],
            [
             0.6,
             "rgb(209,229,240)"
            ],
            [
             0.7,
             "rgb(146,197,222)"
            ],
            [
             0.8,
             "rgb(67,147,195)"
            ],
            [
             0.9,
             "rgb(33,102,172)"
            ],
            [
             1,
             "rgb(5,48,97)"
            ]
           ],
           "sequential": [
            [
             0,
             "#440154"
            ],
            [
             0.1111111111111111,
             "#482878"
            ],
            [
             0.2222222222222222,
             "#3e4989"
            ],
            [
             0.3333333333333333,
             "#31688e"
            ],
            [
             0.4444444444444444,
             "#26828e"
            ],
            [
             0.5555555555555556,
             "#1f9e89"
            ],
            [
             0.6666666666666666,
             "#35b779"
            ],
            [
             0.7777777777777778,
             "#6ece58"
            ],
            [
             0.8888888888888888,
             "#b5de2b"
            ],
            [
             1,
             "#fde725"
            ]
           ],
           "sequentialminus": [
            [
             0,
             "#440154"
            ],
            [
             0.1111111111111111,
             "#482878"
            ],
            [
             0.2222222222222222,
             "#3e4989"
            ],
            [
             0.3333333333333333,
             "#31688e"
            ],
            [
             0.4444444444444444,
             "#26828e"
            ],
            [
             0.5555555555555556,
             "#1f9e89"
            ],
            [
             0.6666666666666666,
             "#35b779"
            ],
            [
             0.7777777777777778,
             "#6ece58"
            ],
            [
             0.8888888888888888,
             "#b5de2b"
            ],
            [
             1,
             "#fde725"
            ]
           ]
          },
          "colorway": [
           "#1F77B4",
           "#FF7F0E",
           "#2CA02C",
           "#D62728",
           "#9467BD",
           "#8C564B",
           "#E377C2",
           "#7F7F7F",
           "#BCBD22",
           "#17BECF"
          ],
          "font": {
           "color": "rgb(36,36,36)"
          },
          "geo": {
           "bgcolor": "white",
           "lakecolor": "white",
           "landcolor": "white",
           "showlakes": true,
           "showland": true,
           "subunitcolor": "white"
          },
          "hoverlabel": {
           "align": "left"
          },
          "hovermode": "closest",
          "mapbox": {
           "style": "light"
          },
          "paper_bgcolor": "white",
          "plot_bgcolor": "white",
          "polar": {
           "angularaxis": {
            "gridcolor": "rgb(232,232,232)",
            "linecolor": "rgb(36,36,36)",
            "showgrid": false,
            "showline": true,
            "ticks": "outside"
           },
           "bgcolor": "white",
           "radialaxis": {
            "gridcolor": "rgb(232,232,232)",
            "linecolor": "rgb(36,36,36)",
            "showgrid": false,
            "showline": true,
            "ticks": "outside"
           }
          },
          "scene": {
           "xaxis": {
            "backgroundcolor": "white",
            "gridcolor": "rgb(232,232,232)",
            "gridwidth": 2,
            "linecolor": "rgb(36,36,36)",
            "showbackground": true,
            "showgrid": false,
            "showline": true,
            "ticks": "outside",
            "zeroline": false,
            "zerolinecolor": "rgb(36,36,36)"
           },
           "yaxis": {
            "backgroundcolor": "white",
            "gridcolor": "rgb(232,232,232)",
            "gridwidth": 2,
            "linecolor": "rgb(36,36,36)",
            "showbackground": true,
            "showgrid": false,
            "showline": true,
            "ticks": "outside",
            "zeroline": false,
            "zerolinecolor": "rgb(36,36,36)"
           },
           "zaxis": {
            "backgroundcolor": "white",
            "gridcolor": "rgb(232,232,232)",
            "gridwidth": 2,
            "linecolor": "rgb(36,36,36)",
            "showbackground": true,
            "showgrid": false,
            "showline": true,
            "ticks": "outside",
            "zeroline": false,
            "zerolinecolor": "rgb(36,36,36)"
           }
          },
          "shapedefaults": {
           "fillcolor": "black",
           "line": {
            "width": 0
           },
           "opacity": 0.3
          },
          "ternary": {
           "aaxis": {
            "gridcolor": "rgb(232,232,232)",
            "linecolor": "rgb(36,36,36)",
            "showgrid": false,
            "showline": true,
            "ticks": "outside"
           },
           "baxis": {
            "gridcolor": "rgb(232,232,232)",
            "linecolor": "rgb(36,36,36)",
            "showgrid": false,
            "showline": true,
            "ticks": "outside"
           },
           "bgcolor": "white",
           "caxis": {
            "gridcolor": "rgb(232,232,232)",
            "linecolor": "rgb(36,36,36)",
            "showgrid": false,
            "showline": true,
            "ticks": "outside"
           }
          },
          "title": {
           "x": 0.05
          },
          "xaxis": {
           "automargin": true,
           "gridcolor": "rgb(232,232,232)",
           "linecolor": "rgb(36,36,36)",
           "showgrid": false,
           "showline": true,
           "ticks": "outside",
           "title": {
            "standoff": 15
           },
           "zeroline": false,
           "zerolinecolor": "rgb(36,36,36)"
          },
          "yaxis": {
           "automargin": true,
           "gridcolor": "rgb(232,232,232)",
           "linecolor": "rgb(36,36,36)",
           "showgrid": false,
           "showline": true,
           "ticks": "outside",
           "title": {
            "standoff": 15
           },
           "zeroline": false,
           "zerolinecolor": "rgb(36,36,36)"
          }
         }
        },
        "title": {
         "text": "Data Distribution by Group"
        },
        "width": 1000,
        "xaxis": {
         "anchor": "y",
         "categoryarray": [
          "treatment2",
          "control",
          "treatment1"
         ],
         "categoryorder": "array",
         "domain": [
          0,
          1
         ],
         "title": {
          "text": "group"
         }
        },
        "yaxis": {
         "anchor": "x",
         "domain": [
          0,
          1
         ],
         "title": {
          "text": "outcome"
         }
        }
       }
      }
     },
     "metadata": {},
     "output_type": "display_data"
    },
    {
     "data": {
      "application/vnd.plotly.v1+json": {
       "config": {
        "plotlyServerURL": "https://plot.ly"
       },
       "data": [
        {
         "alignmentgroup": "True",
         "box": {
          "visible": true
         },
         "hovertemplate": "group=%{x}<br>outcome=%{y}<extra></extra>",
         "legendgroup": "treatment2",
         "marker": {
          "color": "#1F77B4"
         },
         "name": "treatment2",
         "offsetgroup": "treatment2",
         "orientation": "v",
         "points": "all",
         "scalegroup": "True",
         "showlegend": true,
         "type": "violin",
         "x": [
          "treatment2",
          "treatment2",
          "treatment2",
          "treatment2",
          "treatment2",
          "treatment2",
          "treatment2",
          "treatment2",
          "treatment2",
          "treatment2",
          "treatment2",
          "treatment2",
          "treatment2",
          "treatment2",
          "treatment2",
          "treatment2",
          "treatment2",
          "treatment2",
          "treatment2",
          "treatment2",
          "treatment2",
          "treatment2",
          "treatment2",
          "treatment2",
          "treatment2",
          "treatment2",
          "treatment2",
          "treatment2",
          "treatment2",
          "treatment2",
          "treatment2",
          "treatment2",
          "treatment2",
          "treatment2",
          "treatment2",
          "treatment2",
          "treatment2",
          "treatment2",
          "treatment2",
          "treatment2",
          "treatment2",
          "treatment2",
          "treatment2",
          "treatment2",
          "treatment2",
          "treatment2",
          "treatment2",
          "treatment2",
          "treatment2",
          "treatment2",
          "treatment2",
          "treatment2",
          "treatment2",
          "treatment2",
          "treatment2",
          "treatment2",
          "treatment2",
          "treatment2",
          "treatment2",
          "treatment2",
          "treatment2",
          "treatment2",
          "treatment2",
          "treatment2",
          "treatment2",
          "treatment2",
          "treatment2",
          "treatment2",
          "treatment2",
          "treatment2",
          "treatment2",
          "treatment2",
          "treatment2",
          "treatment2",
          "treatment2",
          "treatment2",
          "treatment2",
          "treatment2",
          "treatment2",
          "treatment2",
          "treatment2",
          "treatment2",
          "treatment2",
          "treatment2",
          "treatment2",
          "treatment2",
          "treatment2",
          "treatment2",
          "treatment2",
          "treatment2",
          "treatment2",
          "treatment2",
          "treatment2",
          "treatment2",
          "treatment2",
          "treatment2",
          "treatment2",
          "treatment2",
          "treatment2",
          "treatment2",
          "treatment2",
          "treatment2",
          "treatment2",
          "treatment2",
          "treatment2",
          "treatment2",
          "treatment2"
         ],
         "x0": " ",
         "xaxis": "x",
         "y": [
          0.1506590434832807,
          -0.3300740655147849,
          0.974712374428872,
          -0.9598946321139062,
          1.6342402962642897,
          4.06109521437826,
          -1.3185701607581126,
          0.7203872420381966,
          0.5592812840531959,
          -0.34890118277275145,
          1.6061293630990847,
          -1.9442295937495997,
          0.05062981091516631,
          -0.10937337588441354,
          -1.8180682481878288,
          0.7319816481571275,
          -0.33541102407083956,
          -0.5802008700404855,
          -1.3056975540410904,
          -1.1830396113350525,
          -0.6871751753325103,
          0.5683512511038289,
          2.8895476561265827,
          0.32419526577860336,
          0.10859818791816822,
          0.06605840098994831,
          0.26730779869615573,
          -0.135717382318232,
          -0.31935507781477807,
          0.7289704322304376,
          1.0998966337110059,
          0.5799525353724839,
          0.6392041109568162,
          0.0018136111946762308,
          2.4335426294299918,
          0.9138748372508074,
          1.1481817313791491,
          1.2491056769643236,
          -0.2709622621677387,
          1.5606385788214105,
          -0.168974827316685,
          -0.2673823015123351,
          0.06997461415008394,
          1.7302113536443784,
          2.5549226766366018,
          -0.23823085114834974,
          2.951280085735754,
          0.40992136681979324,
          -0.00588005323429408,
          1.4945998918817143,
          2.1783055098228954,
          1.6108203093925022,
          1.027960427026474,
          0.2289785381885402,
          -1.0340651186989278,
          1.3630696033373086,
          -0.3259731409814887,
          3.7539851260876063,
          -0.34273509648692224,
          1.392041889732596,
          3.024720998001007,
          -0.8532599420379767,
          0.4857194522949053,
          -0.00544227379186335,
          -1.0816539256145454,
          2.0606924631803016,
          0.8261904736542662,
          -1.0193414672400714,
          1.8319581865745111,
          -1.375778638563943,
          0.6475581090137137,
          1.3401711592784253,
          1.6333420250690736,
          0.5990933258291411,
          0.28517532464965356,
          -0.39723633136130576,
          0.7651516664106924,
          2.0891441322025512,
          0.9505204472168021,
          -0.14532220919748629,
          -0.6006110090276338,
          -1.5145748438162376,
          -0.12278874915751475,
          1.399596647852733,
          -0.4474280242581382,
          1.8723777965472466,
          0.6249893716301859,
          0.3058540464925059,
          1.1098600730432486,
          2.4115296065094283,
          1.3195375788687147,
          1.193278061849386,
          2.5961429439016337,
          2.3559703853081917,
          -0.3485206993879135,
          -2.9781692136365563,
          -0.2682630619495127,
          -0.563258611460363,
          3.5392577912108925,
          1.3233525162789652,
          2.05245274174549,
          -2.0292308550939886,
          2.9613034719636375,
          0.7367582874280403,
          0.2276023209304917,
          0.5861056047234005,
          1.3755880679916455
         ],
         "y0": " ",
         "yaxis": "y"
        },
        {
         "alignmentgroup": "True",
         "box": {
          "visible": true
         },
         "hovertemplate": "group=%{x}<br>outcome=%{y}<extra></extra>",
         "legendgroup": "control",
         "marker": {
          "color": "#FF7F0E"
         },
         "name": "control",
         "offsetgroup": "control",
         "orientation": "v",
         "points": "all",
         "scalegroup": "True",
         "showlegend": true,
         "type": "violin",
         "x": [
          "control",
          "control",
          "control",
          "control",
          "control",
          "control",
          "control",
          "control",
          "control",
          "control",
          "control",
          "control",
          "control",
          "control",
          "control",
          "control",
          "control",
          "control",
          "control",
          "control",
          "control",
          "control",
          "control",
          "control",
          "control",
          "control",
          "control",
          "control",
          "control",
          "control",
          "control",
          "control",
          "control",
          "control",
          "control",
          "control",
          "control",
          "control",
          "control",
          "control",
          "control",
          "control",
          "control",
          "control",
          "control",
          "control",
          "control",
          "control",
          "control",
          "control",
          "control",
          "control",
          "control",
          "control",
          "control",
          "control",
          "control",
          "control",
          "control",
          "control",
          "control",
          "control",
          "control",
          "control",
          "control",
          "control",
          "control",
          "control",
          "control",
          "control",
          "control",
          "control",
          "control",
          "control",
          "control",
          "control",
          "control",
          "control",
          "control",
          "control",
          "control",
          "control",
          "control",
          "control",
          "control",
          "control",
          "control",
          "control",
          "control",
          "control",
          "control",
          "control",
          "control",
          "control",
          "control",
          "control",
          "control",
          "control",
          "control"
         ],
         "x0": " ",
         "xaxis": "x",
         "y": [
          0.9842850601475533,
          1.343168212296779,
          -0.23454764994752642,
          0.8158909071523157,
          0.47027464231260996,
          -0.3731191896503628,
          1.0035970641448175,
          -0.011583319781993704,
          0.6905987051145228,
          1.106975709568625,
          2.096329789541089,
          0.6351125509019792,
          -0.7507618430676728,
          -0.025499869720156054,
          2.7789243438859614,
          -0.9359008193740319,
          0.9949956541916949,
          0.09059116942844231,
          0.5449668260124338,
          1.0186944577177797,
          0.20649498232738916,
          0.657201855097078,
          0.38452659007626727,
          -0.20461650547758856,
          2.7448066060105636,
          0.21239808964112838,
          1.9236244121452792,
          -1.1835731679445378,
          0.6606137068218032,
          0.18472906347807627,
          1.1990923818599892,
          0.518751866176494,
          -2.093794004035063,
          0.7559352817916524,
          1.0677683677576248,
          2.1724357823922427,
          0.22698430121934968,
          0.44628934800191805,
          0.5014267570260816,
          -0.045037615347091386,
          -0.29122436219746994,
          -0.9812003352375493,
          0.9599148626269969,
          0.5294355116538028,
          -1.3744688748595117,
          1.5436756453687497,
          2.1443715354746837,
          1.3578646587884662,
          -1.3420073040533562,
          -1.0449989485969975,
          -0.12452524759368423,
          -0.20020489573106967,
          0.7693176542525386,
          1.4045828951175248,
          0.09007258698166123,
          0.07900901424405643,
          0.182631214729357,
          0.458441296561979,
          0.6862123438946257,
          -0.954390128572995,
          -2.3395965636433984,
          -0.35153679862044995,
          0.4257985511923209,
          2.09015771901085,
          1.471641954448069,
          -1.4199616329916904,
          0.15306626275233692,
          -2.064341981460694,
          0.528080258709859,
          0.21720647789306466,
          -0.47187752411786926,
          -0.05618114580198841,
          2.5258299572508314,
          0.012770792327074898,
          0.008836471250542766,
          -0.7091223895609857,
          -0.825610275502588,
          1.179659669163419,
          1.7802751644200017,
          1.3406152512883598,
          0.9862220447328081,
          1.1535318720078684,
          1.1010539442115366,
          0.35572481983205206,
          -0.6492472783337095,
          0.06375497172204381,
          1.3331732948398245,
          -0.3899103910097781,
          1.6496230788330823,
          0.7334657964802429,
          0.05407087426048632,
          1.2403511560774776,
          0.7511949722196741,
          0.04620333502784402,
          2.9059072369269945,
          -0.1946702618774796,
          2.2059152072425854,
          -0.371589379723124,
          1.4850941116132752
         ],
         "y0": " ",
         "yaxis": "y"
        },
        {
         "alignmentgroup": "True",
         "box": {
          "visible": true
         },
         "hovertemplate": "group=%{x}<br>outcome=%{y}<extra></extra>",
         "legendgroup": "treatment1",
         "marker": {
          "color": "#2CA02C"
         },
         "name": "treatment1",
         "offsetgroup": "treatment1",
         "orientation": "v",
         "points": "all",
         "scalegroup": "True",
         "showlegend": true,
         "type": "violin",
         "x": [
          "treatment1",
          "treatment1",
          "treatment1",
          "treatment1",
          "treatment1",
          "treatment1",
          "treatment1",
          "treatment1",
          "treatment1",
          "treatment1",
          "treatment1",
          "treatment1",
          "treatment1",
          "treatment1",
          "treatment1",
          "treatment1",
          "treatment1",
          "treatment1",
          "treatment1",
          "treatment1",
          "treatment1",
          "treatment1",
          "treatment1",
          "treatment1",
          "treatment1",
          "treatment1",
          "treatment1",
          "treatment1",
          "treatment1",
          "treatment1",
          "treatment1",
          "treatment1",
          "treatment1",
          "treatment1",
          "treatment1",
          "treatment1",
          "treatment1",
          "treatment1",
          "treatment1",
          "treatment1",
          "treatment1",
          "treatment1",
          "treatment1",
          "treatment1",
          "treatment1",
          "treatment1",
          "treatment1",
          "treatment1",
          "treatment1",
          "treatment1",
          "treatment1",
          "treatment1",
          "treatment1",
          "treatment1",
          "treatment1",
          "treatment1",
          "treatment1",
          "treatment1",
          "treatment1",
          "treatment1",
          "treatment1",
          "treatment1",
          "treatment1",
          "treatment1",
          "treatment1",
          "treatment1",
          "treatment1",
          "treatment1",
          "treatment1",
          "treatment1",
          "treatment1",
          "treatment1",
          "treatment1",
          "treatment1",
          "treatment1",
          "treatment1",
          "treatment1",
          "treatment1",
          "treatment1",
          "treatment1",
          "treatment1",
          "treatment1",
          "treatment1",
          "treatment1",
          "treatment1",
          "treatment1",
          "treatment1",
          "treatment1",
          "treatment1",
          "treatment1",
          "treatment1",
          "treatment1",
          "treatment1",
          "treatment1"
         ],
         "x0": " ",
         "xaxis": "x",
         "y": [
          1.6049282184501492,
          0.9105122184946679,
          -1.9363762099846002,
          -0.34735752811264364,
          1.3644334473203186,
          1.1720289038044003,
          3.283938046489837,
          0.46881320183315583,
          0.8363987637862524,
          0.7825430230959759,
          -0.47525734840047573,
          0.18647890303997672,
          1.4497740384887337,
          0.3330566250434873,
          -1.191818256250303,
          1.1567973311639799,
          -0.18326562145441905,
          0.33469038544643753,
          0.08658746267758477,
          0.5872383868098936,
          1.5956436518043213,
          -1.491537786531414,
          1.426025866834002,
          0.4587145583600326,
          0.7768230044256033,
          0.45235628884295565,
          1.4380225974216752,
          2.663769789448251,
          0.2607635685448928,
          -0.10719447516112607,
          0.5137827142468758,
          1.5929817942594646,
          -0.5782769139641375,
          0.13155001091330326,
          0.8317085769758473,
          0.2710617487422633,
          0.5314000109603296,
          1.8089568290201625,
          1.6362423171192628,
          0.1319157745955125,
          0.6102995786334215,
          0.17534867234892748,
          0.8161082622719796,
          1.0507439588552665,
          0.13223721734697313,
          0.4522765170406712,
          0.37314213046184563,
          0.7019074418027955,
          -0.304736685075496,
          -1.4406527388068167,
          2.8136665758789077,
          1.082730435800479,
          0.7415822641825645,
          1.1834823201410025,
          -0.8567854844185623,
          0.7374852516219397,
          2.3265038874367736,
          0.2756662046529006,
          -0.49197432545884934,
          0.5360265349048582,
          -0.039745359324594,
          -0.04524962373931993,
          2.1427258832938323,
          -0.8967472201829223,
          0.3319292107944699,
          0.36690941709697406,
          0.20949686263235864,
          -0.8755617880319608,
          -0.7569060905115959,
          -0.8750788228681176,
          -0.7712054615817139,
          0.0051065724347190145,
          1.6488932412535497,
          1.1510799621527283,
          -1.2317307675098257,
          0.1895849201605889,
          -0.17778609299338444,
          0.8424569180075144,
          -0.7396187694293522,
          -0.25790216454354326,
          -0.5179122558056343,
          0.8928253642988553,
          2.396793578770243,
          1.0252117126909477,
          1.3026522556074296,
          0.5348092900812669,
          1.4196729775437447,
          1.4607370675639193,
          -1.0231608704717607,
          -1.5625256739117495,
          3.3419752025129954,
          -0.10185479998176072,
          1.6117927657184359,
          0.18704445188134666
         ],
         "y0": " ",
         "yaxis": "y"
        }
       ],
       "layout": {
        "annotations": [
         {
          "align": "center",
          "showarrow": false,
          "text": "Interpretation of the Violinplot:\n<br>Violin plots reveal distribution shapes. Bimodality or skewness hints at underlying patterns or deviations.",
          "x": 0.5,
          "xanchor": "center",
          "xref": "paper",
          "y": -0.2,
          "yanchor": "top",
          "yref": "paper"
         }
        ],
        "autosize": false,
        "height": 600,
        "legend": {
         "title": {
          "text": "group"
         },
         "tracegroupgap": 0
        },
        "margin": {
         "b": 150,
         "t": 50
        },
        "template": {
         "data": {
          "bar": [
           {
            "error_x": {
             "color": "rgb(36,36,36)"
            },
            "error_y": {
             "color": "rgb(36,36,36)"
            },
            "marker": {
             "line": {
              "color": "white",
              "width": 0.5
             },
             "pattern": {
              "fillmode": "overlay",
              "size": 10,
              "solidity": 0.2
             }
            },
            "type": "bar"
           }
          ],
          "barpolar": [
           {
            "marker": {
             "line": {
              "color": "white",
              "width": 0.5
             },
             "pattern": {
              "fillmode": "overlay",
              "size": 10,
              "solidity": 0.2
             }
            },
            "type": "barpolar"
           }
          ],
          "carpet": [
           {
            "aaxis": {
             "endlinecolor": "rgb(36,36,36)",
             "gridcolor": "white",
             "linecolor": "white",
             "minorgridcolor": "white",
             "startlinecolor": "rgb(36,36,36)"
            },
            "baxis": {
             "endlinecolor": "rgb(36,36,36)",
             "gridcolor": "white",
             "linecolor": "white",
             "minorgridcolor": "white",
             "startlinecolor": "rgb(36,36,36)"
            },
            "type": "carpet"
           }
          ],
          "choropleth": [
           {
            "colorbar": {
             "outlinewidth": 1,
             "tickcolor": "rgb(36,36,36)",
             "ticks": "outside"
            },
            "type": "choropleth"
           }
          ],
          "contour": [
           {
            "colorbar": {
             "outlinewidth": 1,
             "tickcolor": "rgb(36,36,36)",
             "ticks": "outside"
            },
            "colorscale": [
             [
              0,
              "#440154"
             ],
             [
              0.1111111111111111,
              "#482878"
             ],
             [
              0.2222222222222222,
              "#3e4989"
             ],
             [
              0.3333333333333333,
              "#31688e"
             ],
             [
              0.4444444444444444,
              "#26828e"
             ],
             [
              0.5555555555555556,
              "#1f9e89"
             ],
             [
              0.6666666666666666,
              "#35b779"
             ],
             [
              0.7777777777777778,
              "#6ece58"
             ],
             [
              0.8888888888888888,
              "#b5de2b"
             ],
             [
              1,
              "#fde725"
             ]
            ],
            "type": "contour"
           }
          ],
          "contourcarpet": [
           {
            "colorbar": {
             "outlinewidth": 1,
             "tickcolor": "rgb(36,36,36)",
             "ticks": "outside"
            },
            "type": "contourcarpet"
           }
          ],
          "heatmap": [
           {
            "colorbar": {
             "outlinewidth": 1,
             "tickcolor": "rgb(36,36,36)",
             "ticks": "outside"
            },
            "colorscale": [
             [
              0,
              "#440154"
             ],
             [
              0.1111111111111111,
              "#482878"
             ],
             [
              0.2222222222222222,
              "#3e4989"
             ],
             [
              0.3333333333333333,
              "#31688e"
             ],
             [
              0.4444444444444444,
              "#26828e"
             ],
             [
              0.5555555555555556,
              "#1f9e89"
             ],
             [
              0.6666666666666666,
              "#35b779"
             ],
             [
              0.7777777777777778,
              "#6ece58"
             ],
             [
              0.8888888888888888,
              "#b5de2b"
             ],
             [
              1,
              "#fde725"
             ]
            ],
            "type": "heatmap"
           }
          ],
          "heatmapgl": [
           {
            "colorbar": {
             "outlinewidth": 1,
             "tickcolor": "rgb(36,36,36)",
             "ticks": "outside"
            },
            "colorscale": [
             [
              0,
              "#440154"
             ],
             [
              0.1111111111111111,
              "#482878"
             ],
             [
              0.2222222222222222,
              "#3e4989"
             ],
             [
              0.3333333333333333,
              "#31688e"
             ],
             [
              0.4444444444444444,
              "#26828e"
             ],
             [
              0.5555555555555556,
              "#1f9e89"
             ],
             [
              0.6666666666666666,
              "#35b779"
             ],
             [
              0.7777777777777778,
              "#6ece58"
             ],
             [
              0.8888888888888888,
              "#b5de2b"
             ],
             [
              1,
              "#fde725"
             ]
            ],
            "type": "heatmapgl"
           }
          ],
          "histogram": [
           {
            "marker": {
             "line": {
              "color": "white",
              "width": 0.6
             }
            },
            "type": "histogram"
           }
          ],
          "histogram2d": [
           {
            "colorbar": {
             "outlinewidth": 1,
             "tickcolor": "rgb(36,36,36)",
             "ticks": "outside"
            },
            "colorscale": [
             [
              0,
              "#440154"
             ],
             [
              0.1111111111111111,
              "#482878"
             ],
             [
              0.2222222222222222,
              "#3e4989"
             ],
             [
              0.3333333333333333,
              "#31688e"
             ],
             [
              0.4444444444444444,
              "#26828e"
             ],
             [
              0.5555555555555556,
              "#1f9e89"
             ],
             [
              0.6666666666666666,
              "#35b779"
             ],
             [
              0.7777777777777778,
              "#6ece58"
             ],
             [
              0.8888888888888888,
              "#b5de2b"
             ],
             [
              1,
              "#fde725"
             ]
            ],
            "type": "histogram2d"
           }
          ],
          "histogram2dcontour": [
           {
            "colorbar": {
             "outlinewidth": 1,
             "tickcolor": "rgb(36,36,36)",
             "ticks": "outside"
            },
            "colorscale": [
             [
              0,
              "#440154"
             ],
             [
              0.1111111111111111,
              "#482878"
             ],
             [
              0.2222222222222222,
              "#3e4989"
             ],
             [
              0.3333333333333333,
              "#31688e"
             ],
             [
              0.4444444444444444,
              "#26828e"
             ],
             [
              0.5555555555555556,
              "#1f9e89"
             ],
             [
              0.6666666666666666,
              "#35b779"
             ],
             [
              0.7777777777777778,
              "#6ece58"
             ],
             [
              0.8888888888888888,
              "#b5de2b"
             ],
             [
              1,
              "#fde725"
             ]
            ],
            "type": "histogram2dcontour"
           }
          ],
          "mesh3d": [
           {
            "colorbar": {
             "outlinewidth": 1,
             "tickcolor": "rgb(36,36,36)",
             "ticks": "outside"
            },
            "type": "mesh3d"
           }
          ],
          "parcoords": [
           {
            "line": {
             "colorbar": {
              "outlinewidth": 1,
              "tickcolor": "rgb(36,36,36)",
              "ticks": "outside"
             }
            },
            "type": "parcoords"
           }
          ],
          "pie": [
           {
            "automargin": true,
            "type": "pie"
           }
          ],
          "scatter": [
           {
            "fillpattern": {
             "fillmode": "overlay",
             "size": 10,
             "solidity": 0.2
            },
            "type": "scatter"
           }
          ],
          "scatter3d": [
           {
            "line": {
             "colorbar": {
              "outlinewidth": 1,
              "tickcolor": "rgb(36,36,36)",
              "ticks": "outside"
             }
            },
            "marker": {
             "colorbar": {
              "outlinewidth": 1,
              "tickcolor": "rgb(36,36,36)",
              "ticks": "outside"
             }
            },
            "type": "scatter3d"
           }
          ],
          "scattercarpet": [
           {
            "marker": {
             "colorbar": {
              "outlinewidth": 1,
              "tickcolor": "rgb(36,36,36)",
              "ticks": "outside"
             }
            },
            "type": "scattercarpet"
           }
          ],
          "scattergeo": [
           {
            "marker": {
             "colorbar": {
              "outlinewidth": 1,
              "tickcolor": "rgb(36,36,36)",
              "ticks": "outside"
             }
            },
            "type": "scattergeo"
           }
          ],
          "scattergl": [
           {
            "marker": {
             "colorbar": {
              "outlinewidth": 1,
              "tickcolor": "rgb(36,36,36)",
              "ticks": "outside"
             }
            },
            "type": "scattergl"
           }
          ],
          "scattermapbox": [
           {
            "marker": {
             "colorbar": {
              "outlinewidth": 1,
              "tickcolor": "rgb(36,36,36)",
              "ticks": "outside"
             }
            },
            "type": "scattermapbox"
           }
          ],
          "scatterpolar": [
           {
            "marker": {
             "colorbar": {
              "outlinewidth": 1,
              "tickcolor": "rgb(36,36,36)",
              "ticks": "outside"
             }
            },
            "type": "scatterpolar"
           }
          ],
          "scatterpolargl": [
           {
            "marker": {
             "colorbar": {
              "outlinewidth": 1,
              "tickcolor": "rgb(36,36,36)",
              "ticks": "outside"
             }
            },
            "type": "scatterpolargl"
           }
          ],
          "scatterternary": [
           {
            "marker": {
             "colorbar": {
              "outlinewidth": 1,
              "tickcolor": "rgb(36,36,36)",
              "ticks": "outside"
             }
            },
            "type": "scatterternary"
           }
          ],
          "surface": [
           {
            "colorbar": {
             "outlinewidth": 1,
             "tickcolor": "rgb(36,36,36)",
             "ticks": "outside"
            },
            "colorscale": [
             [
              0,
              "#440154"
             ],
             [
              0.1111111111111111,
              "#482878"
             ],
             [
              0.2222222222222222,
              "#3e4989"
             ],
             [
              0.3333333333333333,
              "#31688e"
             ],
             [
              0.4444444444444444,
              "#26828e"
             ],
             [
              0.5555555555555556,
              "#1f9e89"
             ],
             [
              0.6666666666666666,
              "#35b779"
             ],
             [
              0.7777777777777778,
              "#6ece58"
             ],
             [
              0.8888888888888888,
              "#b5de2b"
             ],
             [
              1,
              "#fde725"
             ]
            ],
            "type": "surface"
           }
          ],
          "table": [
           {
            "cells": {
             "fill": {
              "color": "rgb(237,237,237)"
             },
             "line": {
              "color": "white"
             }
            },
            "header": {
             "fill": {
              "color": "rgb(217,217,217)"
             },
             "line": {
              "color": "white"
             }
            },
            "type": "table"
           }
          ]
         },
         "layout": {
          "annotationdefaults": {
           "arrowhead": 0,
           "arrowwidth": 1
          },
          "autotypenumbers": "strict",
          "coloraxis": {
           "colorbar": {
            "outlinewidth": 1,
            "tickcolor": "rgb(36,36,36)",
            "ticks": "outside"
           }
          },
          "colorscale": {
           "diverging": [
            [
             0,
             "rgb(103,0,31)"
            ],
            [
             0.1,
             "rgb(178,24,43)"
            ],
            [
             0.2,
             "rgb(214,96,77)"
            ],
            [
             0.3,
             "rgb(244,165,130)"
            ],
            [
             0.4,
             "rgb(253,219,199)"
            ],
            [
             0.5,
             "rgb(247,247,247)"
            ],
            [
             0.6,
             "rgb(209,229,240)"
            ],
            [
             0.7,
             "rgb(146,197,222)"
            ],
            [
             0.8,
             "rgb(67,147,195)"
            ],
            [
             0.9,
             "rgb(33,102,172)"
            ],
            [
             1,
             "rgb(5,48,97)"
            ]
           ],
           "sequential": [
            [
             0,
             "#440154"
            ],
            [
             0.1111111111111111,
             "#482878"
            ],
            [
             0.2222222222222222,
             "#3e4989"
            ],
            [
             0.3333333333333333,
             "#31688e"
            ],
            [
             0.4444444444444444,
             "#26828e"
            ],
            [
             0.5555555555555556,
             "#1f9e89"
            ],
            [
             0.6666666666666666,
             "#35b779"
            ],
            [
             0.7777777777777778,
             "#6ece58"
            ],
            [
             0.8888888888888888,
             "#b5de2b"
            ],
            [
             1,
             "#fde725"
            ]
           ],
           "sequentialminus": [
            [
             0,
             "#440154"
            ],
            [
             0.1111111111111111,
             "#482878"
            ],
            [
             0.2222222222222222,
             "#3e4989"
            ],
            [
             0.3333333333333333,
             "#31688e"
            ],
            [
             0.4444444444444444,
             "#26828e"
            ],
            [
             0.5555555555555556,
             "#1f9e89"
            ],
            [
             0.6666666666666666,
             "#35b779"
            ],
            [
             0.7777777777777778,
             "#6ece58"
            ],
            [
             0.8888888888888888,
             "#b5de2b"
            ],
            [
             1,
             "#fde725"
            ]
           ]
          },
          "colorway": [
           "#1F77B4",
           "#FF7F0E",
           "#2CA02C",
           "#D62728",
           "#9467BD",
           "#8C564B",
           "#E377C2",
           "#7F7F7F",
           "#BCBD22",
           "#17BECF"
          ],
          "font": {
           "color": "rgb(36,36,36)"
          },
          "geo": {
           "bgcolor": "white",
           "lakecolor": "white",
           "landcolor": "white",
           "showlakes": true,
           "showland": true,
           "subunitcolor": "white"
          },
          "hoverlabel": {
           "align": "left"
          },
          "hovermode": "closest",
          "mapbox": {
           "style": "light"
          },
          "paper_bgcolor": "white",
          "plot_bgcolor": "white",
          "polar": {
           "angularaxis": {
            "gridcolor": "rgb(232,232,232)",
            "linecolor": "rgb(36,36,36)",
            "showgrid": false,
            "showline": true,
            "ticks": "outside"
           },
           "bgcolor": "white",
           "radialaxis": {
            "gridcolor": "rgb(232,232,232)",
            "linecolor": "rgb(36,36,36)",
            "showgrid": false,
            "showline": true,
            "ticks": "outside"
           }
          },
          "scene": {
           "xaxis": {
            "backgroundcolor": "white",
            "gridcolor": "rgb(232,232,232)",
            "gridwidth": 2,
            "linecolor": "rgb(36,36,36)",
            "showbackground": true,
            "showgrid": false,
            "showline": true,
            "ticks": "outside",
            "zeroline": false,
            "zerolinecolor": "rgb(36,36,36)"
           },
           "yaxis": {
            "backgroundcolor": "white",
            "gridcolor": "rgb(232,232,232)",
            "gridwidth": 2,
            "linecolor": "rgb(36,36,36)",
            "showbackground": true,
            "showgrid": false,
            "showline": true,
            "ticks": "outside",
            "zeroline": false,
            "zerolinecolor": "rgb(36,36,36)"
           },
           "zaxis": {
            "backgroundcolor": "white",
            "gridcolor": "rgb(232,232,232)",
            "gridwidth": 2,
            "linecolor": "rgb(36,36,36)",
            "showbackground": true,
            "showgrid": false,
            "showline": true,
            "ticks": "outside",
            "zeroline": false,
            "zerolinecolor": "rgb(36,36,36)"
           }
          },
          "shapedefaults": {
           "fillcolor": "black",
           "line": {
            "width": 0
           },
           "opacity": 0.3
          },
          "ternary": {
           "aaxis": {
            "gridcolor": "rgb(232,232,232)",
            "linecolor": "rgb(36,36,36)",
            "showgrid": false,
            "showline": true,
            "ticks": "outside"
           },
           "baxis": {
            "gridcolor": "rgb(232,232,232)",
            "linecolor": "rgb(36,36,36)",
            "showgrid": false,
            "showline": true,
            "ticks": "outside"
           },
           "bgcolor": "white",
           "caxis": {
            "gridcolor": "rgb(232,232,232)",
            "linecolor": "rgb(36,36,36)",
            "showgrid": false,
            "showline": true,
            "ticks": "outside"
           }
          },
          "title": {
           "x": 0.05
          },
          "xaxis": {
           "automargin": true,
           "gridcolor": "rgb(232,232,232)",
           "linecolor": "rgb(36,36,36)",
           "showgrid": false,
           "showline": true,
           "ticks": "outside",
           "title": {
            "standoff": 15
           },
           "zeroline": false,
           "zerolinecolor": "rgb(36,36,36)"
          },
          "yaxis": {
           "automargin": true,
           "gridcolor": "rgb(232,232,232)",
           "linecolor": "rgb(36,36,36)",
           "showgrid": false,
           "showline": true,
           "ticks": "outside",
           "title": {
            "standoff": 15
           },
           "zeroline": false,
           "zerolinecolor": "rgb(36,36,36)"
          }
         }
        },
        "title": {
         "text": "Data Distribution Overview"
        },
        "violinmode": "overlay",
        "width": 1000,
        "xaxis": {
         "anchor": "y",
         "categoryarray": [
          "treatment2",
          "control",
          "treatment1"
         ],
         "categoryorder": "array",
         "domain": [
          0,
          1
         ],
         "title": {
          "text": "group"
         }
        },
        "yaxis": {
         "anchor": "x",
         "domain": [
          0,
          1
         ],
         "title": {
          "text": "outcome"
         }
        }
       }
      }
     },
     "metadata": {},
     "output_type": "display_data"
    },
    {
     "data": {
      "application/vnd.plotly.v1+json": {
       "config": {
        "plotlyServerURL": "https://plot.ly"
       },
       "data": [
        {
         "alignmentgroup": "True",
         "bingroup": "x",
         "hovertemplate": "group=treatment2<br>outcome=%{x}<br>count=%{y}<extra></extra>",
         "legendgroup": "treatment2",
         "marker": {
          "color": "#1F77B4",
          "opacity": 0.5,
          "pattern": {
           "shape": ""
          }
         },
         "name": "treatment2",
         "offsetgroup": "treatment2",
         "orientation": "v",
         "showlegend": true,
         "type": "histogram",
         "x": [
          0.1506590434832807,
          -0.3300740655147849,
          0.974712374428872,
          -0.9598946321139062,
          1.6342402962642897,
          4.06109521437826,
          -1.3185701607581126,
          0.7203872420381966,
          0.5592812840531959,
          -0.34890118277275145,
          1.6061293630990847,
          -1.9442295937495997,
          0.05062981091516631,
          -0.10937337588441354,
          -1.8180682481878288,
          0.7319816481571275,
          -0.33541102407083956,
          -0.5802008700404855,
          -1.3056975540410904,
          -1.1830396113350525,
          -0.6871751753325103,
          0.5683512511038289,
          2.8895476561265827,
          0.32419526577860336,
          0.10859818791816822,
          0.06605840098994831,
          0.26730779869615573,
          -0.135717382318232,
          -0.31935507781477807,
          0.7289704322304376,
          1.0998966337110059,
          0.5799525353724839,
          0.6392041109568162,
          0.0018136111946762308,
          2.4335426294299918,
          0.9138748372508074,
          1.1481817313791491,
          1.2491056769643236,
          -0.2709622621677387,
          1.5606385788214105,
          -0.168974827316685,
          -0.2673823015123351,
          0.06997461415008394,
          1.7302113536443784,
          2.5549226766366018,
          -0.23823085114834974,
          2.951280085735754,
          0.40992136681979324,
          -0.00588005323429408,
          1.4945998918817143,
          2.1783055098228954,
          1.6108203093925022,
          1.027960427026474,
          0.2289785381885402,
          -1.0340651186989278,
          1.3630696033373086,
          -0.3259731409814887,
          3.7539851260876063,
          -0.34273509648692224,
          1.392041889732596,
          3.024720998001007,
          -0.8532599420379767,
          0.4857194522949053,
          -0.00544227379186335,
          -1.0816539256145454,
          2.0606924631803016,
          0.8261904736542662,
          -1.0193414672400714,
          1.8319581865745111,
          -1.375778638563943,
          0.6475581090137137,
          1.3401711592784253,
          1.6333420250690736,
          0.5990933258291411,
          0.28517532464965356,
          -0.39723633136130576,
          0.7651516664106924,
          2.0891441322025512,
          0.9505204472168021,
          -0.14532220919748629,
          -0.6006110090276338,
          -1.5145748438162376,
          -0.12278874915751475,
          1.399596647852733,
          -0.4474280242581382,
          1.8723777965472466,
          0.6249893716301859,
          0.3058540464925059,
          1.1098600730432486,
          2.4115296065094283,
          1.3195375788687147,
          1.193278061849386,
          2.5961429439016337,
          2.3559703853081917,
          -0.3485206993879135,
          -2.9781692136365563,
          -0.2682630619495127,
          -0.563258611460363,
          3.5392577912108925,
          1.3233525162789652,
          2.05245274174549,
          -2.0292308550939886,
          2.9613034719636375,
          0.7367582874280403,
          0.2276023209304917,
          0.5861056047234005,
          1.3755880679916455
         ],
         "xaxis": "x",
         "yaxis": "y"
        },
        {
         "alignmentgroup": "True",
         "boxpoints": "all",
         "fillcolor": "rgba(255,255,255,0)",
         "hoveron": "points",
         "hovertemplate": "group=treatment2<br>outcome=%{x}<extra></extra>",
         "jitter": 0,
         "legendgroup": "treatment2",
         "line": {
          "color": "rgba(255,255,255,0)"
         },
         "marker": {
          "color": "#1F77B4",
          "symbol": "line-ns-open"
         },
         "name": "treatment2",
         "offsetgroup": "treatment2",
         "showlegend": false,
         "type": "box",
         "x": [
          0.1506590434832807,
          -0.3300740655147849,
          0.974712374428872,
          -0.9598946321139062,
          1.6342402962642897,
          4.06109521437826,
          -1.3185701607581126,
          0.7203872420381966,
          0.5592812840531959,
          -0.34890118277275145,
          1.6061293630990847,
          -1.9442295937495997,
          0.05062981091516631,
          -0.10937337588441354,
          -1.8180682481878288,
          0.7319816481571275,
          -0.33541102407083956,
          -0.5802008700404855,
          -1.3056975540410904,
          -1.1830396113350525,
          -0.6871751753325103,
          0.5683512511038289,
          2.8895476561265827,
          0.32419526577860336,
          0.10859818791816822,
          0.06605840098994831,
          0.26730779869615573,
          -0.135717382318232,
          -0.31935507781477807,
          0.7289704322304376,
          1.0998966337110059,
          0.5799525353724839,
          0.6392041109568162,
          0.0018136111946762308,
          2.4335426294299918,
          0.9138748372508074,
          1.1481817313791491,
          1.2491056769643236,
          -0.2709622621677387,
          1.5606385788214105,
          -0.168974827316685,
          -0.2673823015123351,
          0.06997461415008394,
          1.7302113536443784,
          2.5549226766366018,
          -0.23823085114834974,
          2.951280085735754,
          0.40992136681979324,
          -0.00588005323429408,
          1.4945998918817143,
          2.1783055098228954,
          1.6108203093925022,
          1.027960427026474,
          0.2289785381885402,
          -1.0340651186989278,
          1.3630696033373086,
          -0.3259731409814887,
          3.7539851260876063,
          -0.34273509648692224,
          1.392041889732596,
          3.024720998001007,
          -0.8532599420379767,
          0.4857194522949053,
          -0.00544227379186335,
          -1.0816539256145454,
          2.0606924631803016,
          0.8261904736542662,
          -1.0193414672400714,
          1.8319581865745111,
          -1.375778638563943,
          0.6475581090137137,
          1.3401711592784253,
          1.6333420250690736,
          0.5990933258291411,
          0.28517532464965356,
          -0.39723633136130576,
          0.7651516664106924,
          2.0891441322025512,
          0.9505204472168021,
          -0.14532220919748629,
          -0.6006110090276338,
          -1.5145748438162376,
          -0.12278874915751475,
          1.399596647852733,
          -0.4474280242581382,
          1.8723777965472466,
          0.6249893716301859,
          0.3058540464925059,
          1.1098600730432486,
          2.4115296065094283,
          1.3195375788687147,
          1.193278061849386,
          2.5961429439016337,
          2.3559703853081917,
          -0.3485206993879135,
          -2.9781692136365563,
          -0.2682630619495127,
          -0.563258611460363,
          3.5392577912108925,
          1.3233525162789652,
          2.05245274174549,
          -2.0292308550939886,
          2.9613034719636375,
          0.7367582874280403,
          0.2276023209304917,
          0.5861056047234005,
          1.3755880679916455
         ],
         "xaxis": "x2",
         "yaxis": "y2"
        },
        {
         "alignmentgroup": "True",
         "bingroup": "x",
         "hovertemplate": "group=control<br>outcome=%{x}<br>count=%{y}<extra></extra>",
         "legendgroup": "control",
         "marker": {
          "color": "#FF7F0E",
          "opacity": 0.5,
          "pattern": {
           "shape": ""
          }
         },
         "name": "control",
         "offsetgroup": "control",
         "orientation": "v",
         "showlegend": true,
         "type": "histogram",
         "x": [
          0.9842850601475533,
          1.343168212296779,
          -0.23454764994752642,
          0.8158909071523157,
          0.47027464231260996,
          -0.3731191896503628,
          1.0035970641448175,
          -0.011583319781993704,
          0.6905987051145228,
          1.106975709568625,
          2.096329789541089,
          0.6351125509019792,
          -0.7507618430676728,
          -0.025499869720156054,
          2.7789243438859614,
          -0.9359008193740319,
          0.9949956541916949,
          0.09059116942844231,
          0.5449668260124338,
          1.0186944577177797,
          0.20649498232738916,
          0.657201855097078,
          0.38452659007626727,
          -0.20461650547758856,
          2.7448066060105636,
          0.21239808964112838,
          1.9236244121452792,
          -1.1835731679445378,
          0.6606137068218032,
          0.18472906347807627,
          1.1990923818599892,
          0.518751866176494,
          -2.093794004035063,
          0.7559352817916524,
          1.0677683677576248,
          2.1724357823922427,
          0.22698430121934968,
          0.44628934800191805,
          0.5014267570260816,
          -0.045037615347091386,
          -0.29122436219746994,
          -0.9812003352375493,
          0.9599148626269969,
          0.5294355116538028,
          -1.3744688748595117,
          1.5436756453687497,
          2.1443715354746837,
          1.3578646587884662,
          -1.3420073040533562,
          -1.0449989485969975,
          -0.12452524759368423,
          -0.20020489573106967,
          0.7693176542525386,
          1.4045828951175248,
          0.09007258698166123,
          0.07900901424405643,
          0.182631214729357,
          0.458441296561979,
          0.6862123438946257,
          -0.954390128572995,
          -2.3395965636433984,
          -0.35153679862044995,
          0.4257985511923209,
          2.09015771901085,
          1.471641954448069,
          -1.4199616329916904,
          0.15306626275233692,
          -2.064341981460694,
          0.528080258709859,
          0.21720647789306466,
          -0.47187752411786926,
          -0.05618114580198841,
          2.5258299572508314,
          0.012770792327074898,
          0.008836471250542766,
          -0.7091223895609857,
          -0.825610275502588,
          1.179659669163419,
          1.7802751644200017,
          1.3406152512883598,
          0.9862220447328081,
          1.1535318720078684,
          1.1010539442115366,
          0.35572481983205206,
          -0.6492472783337095,
          0.06375497172204381,
          1.3331732948398245,
          -0.3899103910097781,
          1.6496230788330823,
          0.7334657964802429,
          0.05407087426048632,
          1.2403511560774776,
          0.7511949722196741,
          0.04620333502784402,
          2.9059072369269945,
          -0.1946702618774796,
          2.2059152072425854,
          -0.371589379723124,
          1.4850941116132752
         ],
         "xaxis": "x",
         "yaxis": "y"
        },
        {
         "alignmentgroup": "True",
         "boxpoints": "all",
         "fillcolor": "rgba(255,255,255,0)",
         "hoveron": "points",
         "hovertemplate": "group=control<br>outcome=%{x}<extra></extra>",
         "jitter": 0,
         "legendgroup": "control",
         "line": {
          "color": "rgba(255,255,255,0)"
         },
         "marker": {
          "color": "#FF7F0E",
          "symbol": "line-ns-open"
         },
         "name": "control",
         "offsetgroup": "control",
         "showlegend": false,
         "type": "box",
         "x": [
          0.9842850601475533,
          1.343168212296779,
          -0.23454764994752642,
          0.8158909071523157,
          0.47027464231260996,
          -0.3731191896503628,
          1.0035970641448175,
          -0.011583319781993704,
          0.6905987051145228,
          1.106975709568625,
          2.096329789541089,
          0.6351125509019792,
          -0.7507618430676728,
          -0.025499869720156054,
          2.7789243438859614,
          -0.9359008193740319,
          0.9949956541916949,
          0.09059116942844231,
          0.5449668260124338,
          1.0186944577177797,
          0.20649498232738916,
          0.657201855097078,
          0.38452659007626727,
          -0.20461650547758856,
          2.7448066060105636,
          0.21239808964112838,
          1.9236244121452792,
          -1.1835731679445378,
          0.6606137068218032,
          0.18472906347807627,
          1.1990923818599892,
          0.518751866176494,
          -2.093794004035063,
          0.7559352817916524,
          1.0677683677576248,
          2.1724357823922427,
          0.22698430121934968,
          0.44628934800191805,
          0.5014267570260816,
          -0.045037615347091386,
          -0.29122436219746994,
          -0.9812003352375493,
          0.9599148626269969,
          0.5294355116538028,
          -1.3744688748595117,
          1.5436756453687497,
          2.1443715354746837,
          1.3578646587884662,
          -1.3420073040533562,
          -1.0449989485969975,
          -0.12452524759368423,
          -0.20020489573106967,
          0.7693176542525386,
          1.4045828951175248,
          0.09007258698166123,
          0.07900901424405643,
          0.182631214729357,
          0.458441296561979,
          0.6862123438946257,
          -0.954390128572995,
          -2.3395965636433984,
          -0.35153679862044995,
          0.4257985511923209,
          2.09015771901085,
          1.471641954448069,
          -1.4199616329916904,
          0.15306626275233692,
          -2.064341981460694,
          0.528080258709859,
          0.21720647789306466,
          -0.47187752411786926,
          -0.05618114580198841,
          2.5258299572508314,
          0.012770792327074898,
          0.008836471250542766,
          -0.7091223895609857,
          -0.825610275502588,
          1.179659669163419,
          1.7802751644200017,
          1.3406152512883598,
          0.9862220447328081,
          1.1535318720078684,
          1.1010539442115366,
          0.35572481983205206,
          -0.6492472783337095,
          0.06375497172204381,
          1.3331732948398245,
          -0.3899103910097781,
          1.6496230788330823,
          0.7334657964802429,
          0.05407087426048632,
          1.2403511560774776,
          0.7511949722196741,
          0.04620333502784402,
          2.9059072369269945,
          -0.1946702618774796,
          2.2059152072425854,
          -0.371589379723124,
          1.4850941116132752
         ],
         "xaxis": "x2",
         "yaxis": "y2"
        },
        {
         "alignmentgroup": "True",
         "bingroup": "x",
         "hovertemplate": "group=treatment1<br>outcome=%{x}<br>count=%{y}<extra></extra>",
         "legendgroup": "treatment1",
         "marker": {
          "color": "#2CA02C",
          "opacity": 0.5,
          "pattern": {
           "shape": ""
          }
         },
         "name": "treatment1",
         "offsetgroup": "treatment1",
         "orientation": "v",
         "showlegend": true,
         "type": "histogram",
         "x": [
          1.6049282184501492,
          0.9105122184946679,
          -1.9363762099846002,
          -0.34735752811264364,
          1.3644334473203186,
          1.1720289038044003,
          3.283938046489837,
          0.46881320183315583,
          0.8363987637862524,
          0.7825430230959759,
          -0.47525734840047573,
          0.18647890303997672,
          1.4497740384887337,
          0.3330566250434873,
          -1.191818256250303,
          1.1567973311639799,
          -0.18326562145441905,
          0.33469038544643753,
          0.08658746267758477,
          0.5872383868098936,
          1.5956436518043213,
          -1.491537786531414,
          1.426025866834002,
          0.4587145583600326,
          0.7768230044256033,
          0.45235628884295565,
          1.4380225974216752,
          2.663769789448251,
          0.2607635685448928,
          -0.10719447516112607,
          0.5137827142468758,
          1.5929817942594646,
          -0.5782769139641375,
          0.13155001091330326,
          0.8317085769758473,
          0.2710617487422633,
          0.5314000109603296,
          1.8089568290201625,
          1.6362423171192628,
          0.1319157745955125,
          0.6102995786334215,
          0.17534867234892748,
          0.8161082622719796,
          1.0507439588552665,
          0.13223721734697313,
          0.4522765170406712,
          0.37314213046184563,
          0.7019074418027955,
          -0.304736685075496,
          -1.4406527388068167,
          2.8136665758789077,
          1.082730435800479,
          0.7415822641825645,
          1.1834823201410025,
          -0.8567854844185623,
          0.7374852516219397,
          2.3265038874367736,
          0.2756662046529006,
          -0.49197432545884934,
          0.5360265349048582,
          -0.039745359324594,
          -0.04524962373931993,
          2.1427258832938323,
          -0.8967472201829223,
          0.3319292107944699,
          0.36690941709697406,
          0.20949686263235864,
          -0.8755617880319608,
          -0.7569060905115959,
          -0.8750788228681176,
          -0.7712054615817139,
          0.0051065724347190145,
          1.6488932412535497,
          1.1510799621527283,
          -1.2317307675098257,
          0.1895849201605889,
          -0.17778609299338444,
          0.8424569180075144,
          -0.7396187694293522,
          -0.25790216454354326,
          -0.5179122558056343,
          0.8928253642988553,
          2.396793578770243,
          1.0252117126909477,
          1.3026522556074296,
          0.5348092900812669,
          1.4196729775437447,
          1.4607370675639193,
          -1.0231608704717607,
          -1.5625256739117495,
          3.3419752025129954,
          -0.10185479998176072,
          1.6117927657184359,
          0.18704445188134666
         ],
         "xaxis": "x",
         "yaxis": "y"
        },
        {
         "alignmentgroup": "True",
         "boxpoints": "all",
         "fillcolor": "rgba(255,255,255,0)",
         "hoveron": "points",
         "hovertemplate": "group=treatment1<br>outcome=%{x}<extra></extra>",
         "jitter": 0,
         "legendgroup": "treatment1",
         "line": {
          "color": "rgba(255,255,255,0)"
         },
         "marker": {
          "color": "#2CA02C",
          "symbol": "line-ns-open"
         },
         "name": "treatment1",
         "offsetgroup": "treatment1",
         "showlegend": false,
         "type": "box",
         "x": [
          1.6049282184501492,
          0.9105122184946679,
          -1.9363762099846002,
          -0.34735752811264364,
          1.3644334473203186,
          1.1720289038044003,
          3.283938046489837,
          0.46881320183315583,
          0.8363987637862524,
          0.7825430230959759,
          -0.47525734840047573,
          0.18647890303997672,
          1.4497740384887337,
          0.3330566250434873,
          -1.191818256250303,
          1.1567973311639799,
          -0.18326562145441905,
          0.33469038544643753,
          0.08658746267758477,
          0.5872383868098936,
          1.5956436518043213,
          -1.491537786531414,
          1.426025866834002,
          0.4587145583600326,
          0.7768230044256033,
          0.45235628884295565,
          1.4380225974216752,
          2.663769789448251,
          0.2607635685448928,
          -0.10719447516112607,
          0.5137827142468758,
          1.5929817942594646,
          -0.5782769139641375,
          0.13155001091330326,
          0.8317085769758473,
          0.2710617487422633,
          0.5314000109603296,
          1.8089568290201625,
          1.6362423171192628,
          0.1319157745955125,
          0.6102995786334215,
          0.17534867234892748,
          0.8161082622719796,
          1.0507439588552665,
          0.13223721734697313,
          0.4522765170406712,
          0.37314213046184563,
          0.7019074418027955,
          -0.304736685075496,
          -1.4406527388068167,
          2.8136665758789077,
          1.082730435800479,
          0.7415822641825645,
          1.1834823201410025,
          -0.8567854844185623,
          0.7374852516219397,
          2.3265038874367736,
          0.2756662046529006,
          -0.49197432545884934,
          0.5360265349048582,
          -0.039745359324594,
          -0.04524962373931993,
          2.1427258832938323,
          -0.8967472201829223,
          0.3319292107944699,
          0.36690941709697406,
          0.20949686263235864,
          -0.8755617880319608,
          -0.7569060905115959,
          -0.8750788228681176,
          -0.7712054615817139,
          0.0051065724347190145,
          1.6488932412535497,
          1.1510799621527283,
          -1.2317307675098257,
          0.1895849201605889,
          -0.17778609299338444,
          0.8424569180075144,
          -0.7396187694293522,
          -0.25790216454354326,
          -0.5179122558056343,
          0.8928253642988553,
          2.396793578770243,
          1.0252117126909477,
          1.3026522556074296,
          0.5348092900812669,
          1.4196729775437447,
          1.4607370675639193,
          -1.0231608704717607,
          -1.5625256739117495,
          3.3419752025129954,
          -0.10185479998176072,
          1.6117927657184359,
          0.18704445188134666
         ],
         "xaxis": "x2",
         "yaxis": "y2"
        }
       ],
       "layout": {
        "annotations": [
         {
          "align": "center",
          "showarrow": false,
          "text": "Interpretation of the Histogram:\n<br>Skewness (0.17) indicates the distribution's asymmetry. <br>Right skew (>1) shows a tail in higher values; left skew (<-1) in lower values.",
          "x": 0.5,
          "xanchor": "center",
          "xref": "paper",
          "y": -0.2,
          "yanchor": "top",
          "yref": "paper"
         }
        ],
        "autosize": false,
        "barmode": "overlay",
        "height": 600,
        "legend": {
         "title": {
          "text": "group"
         },
         "tracegroupgap": 0
        },
        "margin": {
         "b": 150,
         "t": 50
        },
        "template": {
         "data": {
          "bar": [
           {
            "error_x": {
             "color": "rgb(36,36,36)"
            },
            "error_y": {
             "color": "rgb(36,36,36)"
            },
            "marker": {
             "line": {
              "color": "white",
              "width": 0.5
             },
             "pattern": {
              "fillmode": "overlay",
              "size": 10,
              "solidity": 0.2
             }
            },
            "type": "bar"
           }
          ],
          "barpolar": [
           {
            "marker": {
             "line": {
              "color": "white",
              "width": 0.5
             },
             "pattern": {
              "fillmode": "overlay",
              "size": 10,
              "solidity": 0.2
             }
            },
            "type": "barpolar"
           }
          ],
          "carpet": [
           {
            "aaxis": {
             "endlinecolor": "rgb(36,36,36)",
             "gridcolor": "white",
             "linecolor": "white",
             "minorgridcolor": "white",
             "startlinecolor": "rgb(36,36,36)"
            },
            "baxis": {
             "endlinecolor": "rgb(36,36,36)",
             "gridcolor": "white",
             "linecolor": "white",
             "minorgridcolor": "white",
             "startlinecolor": "rgb(36,36,36)"
            },
            "type": "carpet"
           }
          ],
          "choropleth": [
           {
            "colorbar": {
             "outlinewidth": 1,
             "tickcolor": "rgb(36,36,36)",
             "ticks": "outside"
            },
            "type": "choropleth"
           }
          ],
          "contour": [
           {
            "colorbar": {
             "outlinewidth": 1,
             "tickcolor": "rgb(36,36,36)",
             "ticks": "outside"
            },
            "colorscale": [
             [
              0,
              "#440154"
             ],
             [
              0.1111111111111111,
              "#482878"
             ],
             [
              0.2222222222222222,
              "#3e4989"
             ],
             [
              0.3333333333333333,
              "#31688e"
             ],
             [
              0.4444444444444444,
              "#26828e"
             ],
             [
              0.5555555555555556,
              "#1f9e89"
             ],
             [
              0.6666666666666666,
              "#35b779"
             ],
             [
              0.7777777777777778,
              "#6ece58"
             ],
             [
              0.8888888888888888,
              "#b5de2b"
             ],
             [
              1,
              "#fde725"
             ]
            ],
            "type": "contour"
           }
          ],
          "contourcarpet": [
           {
            "colorbar": {
             "outlinewidth": 1,
             "tickcolor": "rgb(36,36,36)",
             "ticks": "outside"
            },
            "type": "contourcarpet"
           }
          ],
          "heatmap": [
           {
            "colorbar": {
             "outlinewidth": 1,
             "tickcolor": "rgb(36,36,36)",
             "ticks": "outside"
            },
            "colorscale": [
             [
              0,
              "#440154"
             ],
             [
              0.1111111111111111,
              "#482878"
             ],
             [
              0.2222222222222222,
              "#3e4989"
             ],
             [
              0.3333333333333333,
              "#31688e"
             ],
             [
              0.4444444444444444,
              "#26828e"
             ],
             [
              0.5555555555555556,
              "#1f9e89"
             ],
             [
              0.6666666666666666,
              "#35b779"
             ],
             [
              0.7777777777777778,
              "#6ece58"
             ],
             [
              0.8888888888888888,
              "#b5de2b"
             ],
             [
              1,
              "#fde725"
             ]
            ],
            "type": "heatmap"
           }
          ],
          "heatmapgl": [
           {
            "colorbar": {
             "outlinewidth": 1,
             "tickcolor": "rgb(36,36,36)",
             "ticks": "outside"
            },
            "colorscale": [
             [
              0,
              "#440154"
             ],
             [
              0.1111111111111111,
              "#482878"
             ],
             [
              0.2222222222222222,
              "#3e4989"
             ],
             [
              0.3333333333333333,
              "#31688e"
             ],
             [
              0.4444444444444444,
              "#26828e"
             ],
             [
              0.5555555555555556,
              "#1f9e89"
             ],
             [
              0.6666666666666666,
              "#35b779"
             ],
             [
              0.7777777777777778,
              "#6ece58"
             ],
             [
              0.8888888888888888,
              "#b5de2b"
             ],
             [
              1,
              "#fde725"
             ]
            ],
            "type": "heatmapgl"
           }
          ],
          "histogram": [
           {
            "marker": {
             "line": {
              "color": "white",
              "width": 0.6
             }
            },
            "type": "histogram"
           }
          ],
          "histogram2d": [
           {
            "colorbar": {
             "outlinewidth": 1,
             "tickcolor": "rgb(36,36,36)",
             "ticks": "outside"
            },
            "colorscale": [
             [
              0,
              "#440154"
             ],
             [
              0.1111111111111111,
              "#482878"
             ],
             [
              0.2222222222222222,
              "#3e4989"
             ],
             [
              0.3333333333333333,
              "#31688e"
             ],
             [
              0.4444444444444444,
              "#26828e"
             ],
             [
              0.5555555555555556,
              "#1f9e89"
             ],
             [
              0.6666666666666666,
              "#35b779"
             ],
             [
              0.7777777777777778,
              "#6ece58"
             ],
             [
              0.8888888888888888,
              "#b5de2b"
             ],
             [
              1,
              "#fde725"
             ]
            ],
            "type": "histogram2d"
           }
          ],
          "histogram2dcontour": [
           {
            "colorbar": {
             "outlinewidth": 1,
             "tickcolor": "rgb(36,36,36)",
             "ticks": "outside"
            },
            "colorscale": [
             [
              0,
              "#440154"
             ],
             [
              0.1111111111111111,
              "#482878"
             ],
             [
              0.2222222222222222,
              "#3e4989"
             ],
             [
              0.3333333333333333,
              "#31688e"
             ],
             [
              0.4444444444444444,
              "#26828e"
             ],
             [
              0.5555555555555556,
              "#1f9e89"
             ],
             [
              0.6666666666666666,
              "#35b779"
             ],
             [
              0.7777777777777778,
              "#6ece58"
             ],
             [
              0.8888888888888888,
              "#b5de2b"
             ],
             [
              1,
              "#fde725"
             ]
            ],
            "type": "histogram2dcontour"
           }
          ],
          "mesh3d": [
           {
            "colorbar": {
             "outlinewidth": 1,
             "tickcolor": "rgb(36,36,36)",
             "ticks": "outside"
            },
            "type": "mesh3d"
           }
          ],
          "parcoords": [
           {
            "line": {
             "colorbar": {
              "outlinewidth": 1,
              "tickcolor": "rgb(36,36,36)",
              "ticks": "outside"
             }
            },
            "type": "parcoords"
           }
          ],
          "pie": [
           {
            "automargin": true,
            "type": "pie"
           }
          ],
          "scatter": [
           {
            "fillpattern": {
             "fillmode": "overlay",
             "size": 10,
             "solidity": 0.2
            },
            "type": "scatter"
           }
          ],
          "scatter3d": [
           {
            "line": {
             "colorbar": {
              "outlinewidth": 1,
              "tickcolor": "rgb(36,36,36)",
              "ticks": "outside"
             }
            },
            "marker": {
             "colorbar": {
              "outlinewidth": 1,
              "tickcolor": "rgb(36,36,36)",
              "ticks": "outside"
             }
            },
            "type": "scatter3d"
           }
          ],
          "scattercarpet": [
           {
            "marker": {
             "colorbar": {
              "outlinewidth": 1,
              "tickcolor": "rgb(36,36,36)",
              "ticks": "outside"
             }
            },
            "type": "scattercarpet"
           }
          ],
          "scattergeo": [
           {
            "marker": {
             "colorbar": {
              "outlinewidth": 1,
              "tickcolor": "rgb(36,36,36)",
              "ticks": "outside"
             }
            },
            "type": "scattergeo"
           }
          ],
          "scattergl": [
           {
            "marker": {
             "colorbar": {
              "outlinewidth": 1,
              "tickcolor": "rgb(36,36,36)",
              "ticks": "outside"
             }
            },
            "type": "scattergl"
           }
          ],
          "scattermapbox": [
           {
            "marker": {
             "colorbar": {
              "outlinewidth": 1,
              "tickcolor": "rgb(36,36,36)",
              "ticks": "outside"
             }
            },
            "type": "scattermapbox"
           }
          ],
          "scatterpolar": [
           {
            "marker": {
             "colorbar": {
              "outlinewidth": 1,
              "tickcolor": "rgb(36,36,36)",
              "ticks": "outside"
             }
            },
            "type": "scatterpolar"
           }
          ],
          "scatterpolargl": [
           {
            "marker": {
             "colorbar": {
              "outlinewidth": 1,
              "tickcolor": "rgb(36,36,36)",
              "ticks": "outside"
             }
            },
            "type": "scatterpolargl"
           }
          ],
          "scatterternary": [
           {
            "marker": {
             "colorbar": {
              "outlinewidth": 1,
              "tickcolor": "rgb(36,36,36)",
              "ticks": "outside"
             }
            },
            "type": "scatterternary"
           }
          ],
          "surface": [
           {
            "colorbar": {
             "outlinewidth": 1,
             "tickcolor": "rgb(36,36,36)",
             "ticks": "outside"
            },
            "colorscale": [
             [
              0,
              "#440154"
             ],
             [
              0.1111111111111111,
              "#482878"
             ],
             [
              0.2222222222222222,
              "#3e4989"
             ],
             [
              0.3333333333333333,
              "#31688e"
             ],
             [
              0.4444444444444444,
              "#26828e"
             ],
             [
              0.5555555555555556,
              "#1f9e89"
             ],
             [
              0.6666666666666666,
              "#35b779"
             ],
             [
              0.7777777777777778,
              "#6ece58"
             ],
             [
              0.8888888888888888,
              "#b5de2b"
             ],
             [
              1,
              "#fde725"
             ]
            ],
            "type": "surface"
           }
          ],
          "table": [
           {
            "cells": {
             "fill": {
              "color": "rgb(237,237,237)"
             },
             "line": {
              "color": "white"
             }
            },
            "header": {
             "fill": {
              "color": "rgb(217,217,217)"
             },
             "line": {
              "color": "white"
             }
            },
            "type": "table"
           }
          ]
         },
         "layout": {
          "annotationdefaults": {
           "arrowhead": 0,
           "arrowwidth": 1
          },
          "autotypenumbers": "strict",
          "coloraxis": {
           "colorbar": {
            "outlinewidth": 1,
            "tickcolor": "rgb(36,36,36)",
            "ticks": "outside"
           }
          },
          "colorscale": {
           "diverging": [
            [
             0,
             "rgb(103,0,31)"
            ],
            [
             0.1,
             "rgb(178,24,43)"
            ],
            [
             0.2,
             "rgb(214,96,77)"
            ],
            [
             0.3,
             "rgb(244,165,130)"
            ],
            [
             0.4,
             "rgb(253,219,199)"
            ],
            [
             0.5,
             "rgb(247,247,247)"
            ],
            [
             0.6,
             "rgb(209,229,240)"
            ],
            [
             0.7,
             "rgb(146,197,222)"
            ],
            [
             0.8,
             "rgb(67,147,195)"
            ],
            [
             0.9,
             "rgb(33,102,172)"
            ],
            [
             1,
             "rgb(5,48,97)"
            ]
           ],
           "sequential": [
            [
             0,
             "#440154"
            ],
            [
             0.1111111111111111,
             "#482878"
            ],
            [
             0.2222222222222222,
             "#3e4989"
            ],
            [
             0.3333333333333333,
             "#31688e"
            ],
            [
             0.4444444444444444,
             "#26828e"
            ],
            [
             0.5555555555555556,
             "#1f9e89"
            ],
            [
             0.6666666666666666,
             "#35b779"
            ],
            [
             0.7777777777777778,
             "#6ece58"
            ],
            [
             0.8888888888888888,
             "#b5de2b"
            ],
            [
             1,
             "#fde725"
            ]
           ],
           "sequentialminus": [
            [
             0,
             "#440154"
            ],
            [
             0.1111111111111111,
             "#482878"
            ],
            [
             0.2222222222222222,
             "#3e4989"
            ],
            [
             0.3333333333333333,
             "#31688e"
            ],
            [
             0.4444444444444444,
             "#26828e"
            ],
            [
             0.5555555555555556,
             "#1f9e89"
            ],
            [
             0.6666666666666666,
             "#35b779"
            ],
            [
             0.7777777777777778,
             "#6ece58"
            ],
            [
             0.8888888888888888,
             "#b5de2b"
            ],
            [
             1,
             "#fde725"
            ]
           ]
          },
          "colorway": [
           "#1F77B4",
           "#FF7F0E",
           "#2CA02C",
           "#D62728",
           "#9467BD",
           "#8C564B",
           "#E377C2",
           "#7F7F7F",
           "#BCBD22",
           "#17BECF"
          ],
          "font": {
           "color": "rgb(36,36,36)"
          },
          "geo": {
           "bgcolor": "white",
           "lakecolor": "white",
           "landcolor": "white",
           "showlakes": true,
           "showland": true,
           "subunitcolor": "white"
          },
          "hoverlabel": {
           "align": "left"
          },
          "hovermode": "closest",
          "mapbox": {
           "style": "light"
          },
          "paper_bgcolor": "white",
          "plot_bgcolor": "white",
          "polar": {
           "angularaxis": {
            "gridcolor": "rgb(232,232,232)",
            "linecolor": "rgb(36,36,36)",
            "showgrid": false,
            "showline": true,
            "ticks": "outside"
           },
           "bgcolor": "white",
           "radialaxis": {
            "gridcolor": "rgb(232,232,232)",
            "linecolor": "rgb(36,36,36)",
            "showgrid": false,
            "showline": true,
            "ticks": "outside"
           }
          },
          "scene": {
           "xaxis": {
            "backgroundcolor": "white",
            "gridcolor": "rgb(232,232,232)",
            "gridwidth": 2,
            "linecolor": "rgb(36,36,36)",
            "showbackground": true,
            "showgrid": false,
            "showline": true,
            "ticks": "outside",
            "zeroline": false,
            "zerolinecolor": "rgb(36,36,36)"
           },
           "yaxis": {
            "backgroundcolor": "white",
            "gridcolor": "rgb(232,232,232)",
            "gridwidth": 2,
            "linecolor": "rgb(36,36,36)",
            "showbackground": true,
            "showgrid": false,
            "showline": true,
            "ticks": "outside",
            "zeroline": false,
            "zerolinecolor": "rgb(36,36,36)"
           },
           "zaxis": {
            "backgroundcolor": "white",
            "gridcolor": "rgb(232,232,232)",
            "gridwidth": 2,
            "linecolor": "rgb(36,36,36)",
            "showbackground": true,
            "showgrid": false,
            "showline": true,
            "ticks": "outside",
            "zeroline": false,
            "zerolinecolor": "rgb(36,36,36)"
           }
          },
          "shapedefaults": {
           "fillcolor": "black",
           "line": {
            "width": 0
           },
           "opacity": 0.3
          },
          "ternary": {
           "aaxis": {
            "gridcolor": "rgb(232,232,232)",
            "linecolor": "rgb(36,36,36)",
            "showgrid": false,
            "showline": true,
            "ticks": "outside"
           },
           "baxis": {
            "gridcolor": "rgb(232,232,232)",
            "linecolor": "rgb(36,36,36)",
            "showgrid": false,
            "showline": true,
            "ticks": "outside"
           },
           "bgcolor": "white",
           "caxis": {
            "gridcolor": "rgb(232,232,232)",
            "linecolor": "rgb(36,36,36)",
            "showgrid": false,
            "showline": true,
            "ticks": "outside"
           }
          },
          "title": {
           "x": 0.05
          },
          "xaxis": {
           "automargin": true,
           "gridcolor": "rgb(232,232,232)",
           "linecolor": "rgb(36,36,36)",
           "showgrid": false,
           "showline": true,
           "ticks": "outside",
           "title": {
            "standoff": 15
           },
           "zeroline": false,
           "zerolinecolor": "rgb(36,36,36)"
          },
          "yaxis": {
           "automargin": true,
           "gridcolor": "rgb(232,232,232)",
           "linecolor": "rgb(36,36,36)",
           "showgrid": false,
           "showline": true,
           "ticks": "outside",
           "title": {
            "standoff": 15
           },
           "zeroline": false,
           "zerolinecolor": "rgb(36,36,36)"
          }
         }
        },
        "title": {
         "text": "Frequency Distribution by Group"
        },
        "width": 1000,
        "xaxis": {
         "anchor": "y",
         "domain": [
          0,
          1
         ],
         "title": {
          "text": "outcome"
         }
        },
        "xaxis2": {
         "anchor": "y2",
         "domain": [
          0,
          1
         ],
         "matches": "x",
         "showticklabels": false
        },
        "yaxis": {
         "anchor": "x",
         "domain": [
          0,
          0.7326
         ],
         "title": {
          "text": "count"
         }
        },
        "yaxis2": {
         "anchor": "x2",
         "domain": [
          0.7426,
          1
         ],
         "matches": "y2",
         "showline": false,
         "showticklabels": false,
         "ticks": ""
        }
       }
      }
     },
     "metadata": {},
     "output_type": "display_data"
    },
    {
     "data": {
      "application/vnd.plotly.v1+json": {
       "config": {
        "plotlyServerURL": "https://plot.ly"
       },
       "data": [
        {
         "alignmentgroup": "True",
         "bingroup": "x",
         "hovertemplate": "group=%{x}<br>count=%{y}<extra></extra>",
         "legendgroup": "treatment2",
         "marker": {
          "color": "#1F77B4",
          "pattern": {
           "shape": ""
          }
         },
         "name": "treatment2",
         "offsetgroup": "treatment2",
         "orientation": "v",
         "showlegend": true,
         "type": "histogram",
         "x": [
          "treatment2",
          "treatment2",
          "treatment2",
          "treatment2",
          "treatment2",
          "treatment2",
          "treatment2",
          "treatment2",
          "treatment2",
          "treatment2",
          "treatment2",
          "treatment2",
          "treatment2",
          "treatment2",
          "treatment2",
          "treatment2",
          "treatment2",
          "treatment2",
          "treatment2",
          "treatment2",
          "treatment2",
          "treatment2",
          "treatment2",
          "treatment2",
          "treatment2",
          "treatment2",
          "treatment2",
          "treatment2",
          "treatment2",
          "treatment2",
          "treatment2",
          "treatment2",
          "treatment2",
          "treatment2",
          "treatment2",
          "treatment2",
          "treatment2",
          "treatment2",
          "treatment2",
          "treatment2",
          "treatment2",
          "treatment2",
          "treatment2",
          "treatment2",
          "treatment2",
          "treatment2",
          "treatment2",
          "treatment2",
          "treatment2",
          "treatment2",
          "treatment2",
          "treatment2",
          "treatment2",
          "treatment2",
          "treatment2",
          "treatment2",
          "treatment2",
          "treatment2",
          "treatment2",
          "treatment2",
          "treatment2",
          "treatment2",
          "treatment2",
          "treatment2",
          "treatment2",
          "treatment2",
          "treatment2",
          "treatment2",
          "treatment2",
          "treatment2",
          "treatment2",
          "treatment2",
          "treatment2",
          "treatment2",
          "treatment2",
          "treatment2",
          "treatment2",
          "treatment2",
          "treatment2",
          "treatment2",
          "treatment2",
          "treatment2",
          "treatment2",
          "treatment2",
          "treatment2",
          "treatment2",
          "treatment2",
          "treatment2",
          "treatment2",
          "treatment2",
          "treatment2",
          "treatment2",
          "treatment2",
          "treatment2",
          "treatment2",
          "treatment2",
          "treatment2",
          "treatment2",
          "treatment2",
          "treatment2",
          "treatment2",
          "treatment2",
          "treatment2",
          "treatment2",
          "treatment2",
          "treatment2",
          "treatment2"
         ],
         "xaxis": "x",
         "yaxis": "y"
        },
        {
         "alignmentgroup": "True",
         "bingroup": "x",
         "hovertemplate": "group=%{x}<br>count=%{y}<extra></extra>",
         "legendgroup": "control",
         "marker": {
          "color": "#FF7F0E",
          "pattern": {
           "shape": ""
          }
         },
         "name": "control",
         "offsetgroup": "control",
         "orientation": "v",
         "showlegend": true,
         "type": "histogram",
         "x": [
          "control",
          "control",
          "control",
          "control",
          "control",
          "control",
          "control",
          "control",
          "control",
          "control",
          "control",
          "control",
          "control",
          "control",
          "control",
          "control",
          "control",
          "control",
          "control",
          "control",
          "control",
          "control",
          "control",
          "control",
          "control",
          "control",
          "control",
          "control",
          "control",
          "control",
          "control",
          "control",
          "control",
          "control",
          "control",
          "control",
          "control",
          "control",
          "control",
          "control",
          "control",
          "control",
          "control",
          "control",
          "control",
          "control",
          "control",
          "control",
          "control",
          "control",
          "control",
          "control",
          "control",
          "control",
          "control",
          "control",
          "control",
          "control",
          "control",
          "control",
          "control",
          "control",
          "control",
          "control",
          "control",
          "control",
          "control",
          "control",
          "control",
          "control",
          "control",
          "control",
          "control",
          "control",
          "control",
          "control",
          "control",
          "control",
          "control",
          "control",
          "control",
          "control",
          "control",
          "control",
          "control",
          "control",
          "control",
          "control",
          "control",
          "control",
          "control",
          "control",
          "control",
          "control",
          "control",
          "control",
          "control",
          "control",
          "control"
         ],
         "xaxis": "x",
         "yaxis": "y"
        },
        {
         "alignmentgroup": "True",
         "bingroup": "x",
         "hovertemplate": "group=%{x}<br>count=%{y}<extra></extra>",
         "legendgroup": "treatment1",
         "marker": {
          "color": "#2CA02C",
          "pattern": {
           "shape": ""
          }
         },
         "name": "treatment1",
         "offsetgroup": "treatment1",
         "orientation": "v",
         "showlegend": true,
         "type": "histogram",
         "x": [
          "treatment1",
          "treatment1",
          "treatment1",
          "treatment1",
          "treatment1",
          "treatment1",
          "treatment1",
          "treatment1",
          "treatment1",
          "treatment1",
          "treatment1",
          "treatment1",
          "treatment1",
          "treatment1",
          "treatment1",
          "treatment1",
          "treatment1",
          "treatment1",
          "treatment1",
          "treatment1",
          "treatment1",
          "treatment1",
          "treatment1",
          "treatment1",
          "treatment1",
          "treatment1",
          "treatment1",
          "treatment1",
          "treatment1",
          "treatment1",
          "treatment1",
          "treatment1",
          "treatment1",
          "treatment1",
          "treatment1",
          "treatment1",
          "treatment1",
          "treatment1",
          "treatment1",
          "treatment1",
          "treatment1",
          "treatment1",
          "treatment1",
          "treatment1",
          "treatment1",
          "treatment1",
          "treatment1",
          "treatment1",
          "treatment1",
          "treatment1",
          "treatment1",
          "treatment1",
          "treatment1",
          "treatment1",
          "treatment1",
          "treatment1",
          "treatment1",
          "treatment1",
          "treatment1",
          "treatment1",
          "treatment1",
          "treatment1",
          "treatment1",
          "treatment1",
          "treatment1",
          "treatment1",
          "treatment1",
          "treatment1",
          "treatment1",
          "treatment1",
          "treatment1",
          "treatment1",
          "treatment1",
          "treatment1",
          "treatment1",
          "treatment1",
          "treatment1",
          "treatment1",
          "treatment1",
          "treatment1",
          "treatment1",
          "treatment1",
          "treatment1",
          "treatment1",
          "treatment1",
          "treatment1",
          "treatment1",
          "treatment1",
          "treatment1",
          "treatment1",
          "treatment1",
          "treatment1",
          "treatment1",
          "treatment1"
         ],
         "xaxis": "x",
         "yaxis": "y"
        }
       ],
       "layout": {
        "annotations": [
         {
          "align": "center",
          "showarrow": false,
          "text": "Interpretation of the Countplot:\n<br>Most common category: treatment2, indicating potential imbalance or predominance.",
          "x": 0.5,
          "xanchor": "center",
          "xref": "paper",
          "y": -0.2,
          "yanchor": "top",
          "yref": "paper"
         }
        ],
        "autosize": false,
        "barmode": "relative",
        "height": 600,
        "legend": {
         "title": {
          "text": "group"
         },
         "tracegroupgap": 0
        },
        "margin": {
         "b": 150,
         "t": 50
        },
        "template": {
         "data": {
          "bar": [
           {
            "error_x": {
             "color": "rgb(36,36,36)"
            },
            "error_y": {
             "color": "rgb(36,36,36)"
            },
            "marker": {
             "line": {
              "color": "white",
              "width": 0.5
             },
             "pattern": {
              "fillmode": "overlay",
              "size": 10,
              "solidity": 0.2
             }
            },
            "type": "bar"
           }
          ],
          "barpolar": [
           {
            "marker": {
             "line": {
              "color": "white",
              "width": 0.5
             },
             "pattern": {
              "fillmode": "overlay",
              "size": 10,
              "solidity": 0.2
             }
            },
            "type": "barpolar"
           }
          ],
          "carpet": [
           {
            "aaxis": {
             "endlinecolor": "rgb(36,36,36)",
             "gridcolor": "white",
             "linecolor": "white",
             "minorgridcolor": "white",
             "startlinecolor": "rgb(36,36,36)"
            },
            "baxis": {
             "endlinecolor": "rgb(36,36,36)",
             "gridcolor": "white",
             "linecolor": "white",
             "minorgridcolor": "white",
             "startlinecolor": "rgb(36,36,36)"
            },
            "type": "carpet"
           }
          ],
          "choropleth": [
           {
            "colorbar": {
             "outlinewidth": 1,
             "tickcolor": "rgb(36,36,36)",
             "ticks": "outside"
            },
            "type": "choropleth"
           }
          ],
          "contour": [
           {
            "colorbar": {
             "outlinewidth": 1,
             "tickcolor": "rgb(36,36,36)",
             "ticks": "outside"
            },
            "colorscale": [
             [
              0,
              "#440154"
             ],
             [
              0.1111111111111111,
              "#482878"
             ],
             [
              0.2222222222222222,
              "#3e4989"
             ],
             [
              0.3333333333333333,
              "#31688e"
             ],
             [
              0.4444444444444444,
              "#26828e"
             ],
             [
              0.5555555555555556,
              "#1f9e89"
             ],
             [
              0.6666666666666666,
              "#35b779"
             ],
             [
              0.7777777777777778,
              "#6ece58"
             ],
             [
              0.8888888888888888,
              "#b5de2b"
             ],
             [
              1,
              "#fde725"
             ]
            ],
            "type": "contour"
           }
          ],
          "contourcarpet": [
           {
            "colorbar": {
             "outlinewidth": 1,
             "tickcolor": "rgb(36,36,36)",
             "ticks": "outside"
            },
            "type": "contourcarpet"
           }
          ],
          "heatmap": [
           {
            "colorbar": {
             "outlinewidth": 1,
             "tickcolor": "rgb(36,36,36)",
             "ticks": "outside"
            },
            "colorscale": [
             [
              0,
              "#440154"
             ],
             [
              0.1111111111111111,
              "#482878"
             ],
             [
              0.2222222222222222,
              "#3e4989"
             ],
             [
              0.3333333333333333,
              "#31688e"
             ],
             [
              0.4444444444444444,
              "#26828e"
             ],
             [
              0.5555555555555556,
              "#1f9e89"
             ],
             [
              0.6666666666666666,
              "#35b779"
             ],
             [
              0.7777777777777778,
              "#6ece58"
             ],
             [
              0.8888888888888888,
              "#b5de2b"
             ],
             [
              1,
              "#fde725"
             ]
            ],
            "type": "heatmap"
           }
          ],
          "heatmapgl": [
           {
            "colorbar": {
             "outlinewidth": 1,
             "tickcolor": "rgb(36,36,36)",
             "ticks": "outside"
            },
            "colorscale": [
             [
              0,
              "#440154"
             ],
             [
              0.1111111111111111,
              "#482878"
             ],
             [
              0.2222222222222222,
              "#3e4989"
             ],
             [
              0.3333333333333333,
              "#31688e"
             ],
             [
              0.4444444444444444,
              "#26828e"
             ],
             [
              0.5555555555555556,
              "#1f9e89"
             ],
             [
              0.6666666666666666,
              "#35b779"
             ],
             [
              0.7777777777777778,
              "#6ece58"
             ],
             [
              0.8888888888888888,
              "#b5de2b"
             ],
             [
              1,
              "#fde725"
             ]
            ],
            "type": "heatmapgl"
           }
          ],
          "histogram": [
           {
            "marker": {
             "line": {
              "color": "white",
              "width": 0.6
             }
            },
            "type": "histogram"
           }
          ],
          "histogram2d": [
           {
            "colorbar": {
             "outlinewidth": 1,
             "tickcolor": "rgb(36,36,36)",
             "ticks": "outside"
            },
            "colorscale": [
             [
              0,
              "#440154"
             ],
             [
              0.1111111111111111,
              "#482878"
             ],
             [
              0.2222222222222222,
              "#3e4989"
             ],
             [
              0.3333333333333333,
              "#31688e"
             ],
             [
              0.4444444444444444,
              "#26828e"
             ],
             [
              0.5555555555555556,
              "#1f9e89"
             ],
             [
              0.6666666666666666,
              "#35b779"
             ],
             [
              0.7777777777777778,
              "#6ece58"
             ],
             [
              0.8888888888888888,
              "#b5de2b"
             ],
             [
              1,
              "#fde725"
             ]
            ],
            "type": "histogram2d"
           }
          ],
          "histogram2dcontour": [
           {
            "colorbar": {
             "outlinewidth": 1,
             "tickcolor": "rgb(36,36,36)",
             "ticks": "outside"
            },
            "colorscale": [
             [
              0,
              "#440154"
             ],
             [
              0.1111111111111111,
              "#482878"
             ],
             [
              0.2222222222222222,
              "#3e4989"
             ],
             [
              0.3333333333333333,
              "#31688e"
             ],
             [
              0.4444444444444444,
              "#26828e"
             ],
             [
              0.5555555555555556,
              "#1f9e89"
             ],
             [
              0.6666666666666666,
              "#35b779"
             ],
             [
              0.7777777777777778,
              "#6ece58"
             ],
             [
              0.8888888888888888,
              "#b5de2b"
             ],
             [
              1,
              "#fde725"
             ]
            ],
            "type": "histogram2dcontour"
           }
          ],
          "mesh3d": [
           {
            "colorbar": {
             "outlinewidth": 1,
             "tickcolor": "rgb(36,36,36)",
             "ticks": "outside"
            },
            "type": "mesh3d"
           }
          ],
          "parcoords": [
           {
            "line": {
             "colorbar": {
              "outlinewidth": 1,
              "tickcolor": "rgb(36,36,36)",
              "ticks": "outside"
             }
            },
            "type": "parcoords"
           }
          ],
          "pie": [
           {
            "automargin": true,
            "type": "pie"
           }
          ],
          "scatter": [
           {
            "fillpattern": {
             "fillmode": "overlay",
             "size": 10,
             "solidity": 0.2
            },
            "type": "scatter"
           }
          ],
          "scatter3d": [
           {
            "line": {
             "colorbar": {
              "outlinewidth": 1,
              "tickcolor": "rgb(36,36,36)",
              "ticks": "outside"
             }
            },
            "marker": {
             "colorbar": {
              "outlinewidth": 1,
              "tickcolor": "rgb(36,36,36)",
              "ticks": "outside"
             }
            },
            "type": "scatter3d"
           }
          ],
          "scattercarpet": [
           {
            "marker": {
             "colorbar": {
              "outlinewidth": 1,
              "tickcolor": "rgb(36,36,36)",
              "ticks": "outside"
             }
            },
            "type": "scattercarpet"
           }
          ],
          "scattergeo": [
           {
            "marker": {
             "colorbar": {
              "outlinewidth": 1,
              "tickcolor": "rgb(36,36,36)",
              "ticks": "outside"
             }
            },
            "type": "scattergeo"
           }
          ],
          "scattergl": [
           {
            "marker": {
             "colorbar": {
              "outlinewidth": 1,
              "tickcolor": "rgb(36,36,36)",
              "ticks": "outside"
             }
            },
            "type": "scattergl"
           }
          ],
          "scattermapbox": [
           {
            "marker": {
             "colorbar": {
              "outlinewidth": 1,
              "tickcolor": "rgb(36,36,36)",
              "ticks": "outside"
             }
            },
            "type": "scattermapbox"
           }
          ],
          "scatterpolar": [
           {
            "marker": {
             "colorbar": {
              "outlinewidth": 1,
              "tickcolor": "rgb(36,36,36)",
              "ticks": "outside"
             }
            },
            "type": "scatterpolar"
           }
          ],
          "scatterpolargl": [
           {
            "marker": {
             "colorbar": {
              "outlinewidth": 1,
              "tickcolor": "rgb(36,36,36)",
              "ticks": "outside"
             }
            },
            "type": "scatterpolargl"
           }
          ],
          "scatterternary": [
           {
            "marker": {
             "colorbar": {
              "outlinewidth": 1,
              "tickcolor": "rgb(36,36,36)",
              "ticks": "outside"
             }
            },
            "type": "scatterternary"
           }
          ],
          "surface": [
           {
            "colorbar": {
             "outlinewidth": 1,
             "tickcolor": "rgb(36,36,36)",
             "ticks": "outside"
            },
            "colorscale": [
             [
              0,
              "#440154"
             ],
             [
              0.1111111111111111,
              "#482878"
             ],
             [
              0.2222222222222222,
              "#3e4989"
             ],
             [
              0.3333333333333333,
              "#31688e"
             ],
             [
              0.4444444444444444,
              "#26828e"
             ],
             [
              0.5555555555555556,
              "#1f9e89"
             ],
             [
              0.6666666666666666,
              "#35b779"
             ],
             [
              0.7777777777777778,
              "#6ece58"
             ],
             [
              0.8888888888888888,
              "#b5de2b"
             ],
             [
              1,
              "#fde725"
             ]
            ],
            "type": "surface"
           }
          ],
          "table": [
           {
            "cells": {
             "fill": {
              "color": "rgb(237,237,237)"
             },
             "line": {
              "color": "white"
             }
            },
            "header": {
             "fill": {
              "color": "rgb(217,217,217)"
             },
             "line": {
              "color": "white"
             }
            },
            "type": "table"
           }
          ]
         },
         "layout": {
          "annotationdefaults": {
           "arrowhead": 0,
           "arrowwidth": 1
          },
          "autotypenumbers": "strict",
          "coloraxis": {
           "colorbar": {
            "outlinewidth": 1,
            "tickcolor": "rgb(36,36,36)",
            "ticks": "outside"
           }
          },
          "colorscale": {
           "diverging": [
            [
             0,
             "rgb(103,0,31)"
            ],
            [
             0.1,
             "rgb(178,24,43)"
            ],
            [
             0.2,
             "rgb(214,96,77)"
            ],
            [
             0.3,
             "rgb(244,165,130)"
            ],
            [
             0.4,
             "rgb(253,219,199)"
            ],
            [
             0.5,
             "rgb(247,247,247)"
            ],
            [
             0.6,
             "rgb(209,229,240)"
            ],
            [
             0.7,
             "rgb(146,197,222)"
            ],
            [
             0.8,
             "rgb(67,147,195)"
            ],
            [
             0.9,
             "rgb(33,102,172)"
            ],
            [
             1,
             "rgb(5,48,97)"
            ]
           ],
           "sequential": [
            [
             0,
             "#440154"
            ],
            [
             0.1111111111111111,
             "#482878"
            ],
            [
             0.2222222222222222,
             "#3e4989"
            ],
            [
             0.3333333333333333,
             "#31688e"
            ],
            [
             0.4444444444444444,
             "#26828e"
            ],
            [
             0.5555555555555556,
             "#1f9e89"
            ],
            [
             0.6666666666666666,
             "#35b779"
            ],
            [
             0.7777777777777778,
             "#6ece58"
            ],
            [
             0.8888888888888888,
             "#b5de2b"
            ],
            [
             1,
             "#fde725"
            ]
           ],
           "sequentialminus": [
            [
             0,
             "#440154"
            ],
            [
             0.1111111111111111,
             "#482878"
            ],
            [
             0.2222222222222222,
             "#3e4989"
            ],
            [
             0.3333333333333333,
             "#31688e"
            ],
            [
             0.4444444444444444,
             "#26828e"
            ],
            [
             0.5555555555555556,
             "#1f9e89"
            ],
            [
             0.6666666666666666,
             "#35b779"
            ],
            [
             0.7777777777777778,
             "#6ece58"
            ],
            [
             0.8888888888888888,
             "#b5de2b"
            ],
            [
             1,
             "#fde725"
            ]
           ]
          },
          "colorway": [
           "#1F77B4",
           "#FF7F0E",
           "#2CA02C",
           "#D62728",
           "#9467BD",
           "#8C564B",
           "#E377C2",
           "#7F7F7F",
           "#BCBD22",
           "#17BECF"
          ],
          "font": {
           "color": "rgb(36,36,36)"
          },
          "geo": {
           "bgcolor": "white",
           "lakecolor": "white",
           "landcolor": "white",
           "showlakes": true,
           "showland": true,
           "subunitcolor": "white"
          },
          "hoverlabel": {
           "align": "left"
          },
          "hovermode": "closest",
          "mapbox": {
           "style": "light"
          },
          "paper_bgcolor": "white",
          "plot_bgcolor": "white",
          "polar": {
           "angularaxis": {
            "gridcolor": "rgb(232,232,232)",
            "linecolor": "rgb(36,36,36)",
            "showgrid": false,
            "showline": true,
            "ticks": "outside"
           },
           "bgcolor": "white",
           "radialaxis": {
            "gridcolor": "rgb(232,232,232)",
            "linecolor": "rgb(36,36,36)",
            "showgrid": false,
            "showline": true,
            "ticks": "outside"
           }
          },
          "scene": {
           "xaxis": {
            "backgroundcolor": "white",
            "gridcolor": "rgb(232,232,232)",
            "gridwidth": 2,
            "linecolor": "rgb(36,36,36)",
            "showbackground": true,
            "showgrid": false,
            "showline": true,
            "ticks": "outside",
            "zeroline": false,
            "zerolinecolor": "rgb(36,36,36)"
           },
           "yaxis": {
            "backgroundcolor": "white",
            "gridcolor": "rgb(232,232,232)",
            "gridwidth": 2,
            "linecolor": "rgb(36,36,36)",
            "showbackground": true,
            "showgrid": false,
            "showline": true,
            "ticks": "outside",
            "zeroline": false,
            "zerolinecolor": "rgb(36,36,36)"
           },
           "zaxis": {
            "backgroundcolor": "white",
            "gridcolor": "rgb(232,232,232)",
            "gridwidth": 2,
            "linecolor": "rgb(36,36,36)",
            "showbackground": true,
            "showgrid": false,
            "showline": true,
            "ticks": "outside",
            "zeroline": false,
            "zerolinecolor": "rgb(36,36,36)"
           }
          },
          "shapedefaults": {
           "fillcolor": "black",
           "line": {
            "width": 0
           },
           "opacity": 0.3
          },
          "ternary": {
           "aaxis": {
            "gridcolor": "rgb(232,232,232)",
            "linecolor": "rgb(36,36,36)",
            "showgrid": false,
            "showline": true,
            "ticks": "outside"
           },
           "baxis": {
            "gridcolor": "rgb(232,232,232)",
            "linecolor": "rgb(36,36,36)",
            "showgrid": false,
            "showline": true,
            "ticks": "outside"
           },
           "bgcolor": "white",
           "caxis": {
            "gridcolor": "rgb(232,232,232)",
            "linecolor": "rgb(36,36,36)",
            "showgrid": false,
            "showline": true,
            "ticks": "outside"
           }
          },
          "title": {
           "x": 0.05
          },
          "xaxis": {
           "automargin": true,
           "gridcolor": "rgb(232,232,232)",
           "linecolor": "rgb(36,36,36)",
           "showgrid": false,
           "showline": true,
           "ticks": "outside",
           "title": {
            "standoff": 15
           },
           "zeroline": false,
           "zerolinecolor": "rgb(36,36,36)"
          },
          "yaxis": {
           "automargin": true,
           "gridcolor": "rgb(232,232,232)",
           "linecolor": "rgb(36,36,36)",
           "showgrid": false,
           "showline": true,
           "ticks": "outside",
           "title": {
            "standoff": 15
           },
           "zeroline": false,
           "zerolinecolor": "rgb(36,36,36)"
          }
         }
        },
        "title": {
         "text": "Count of Categories"
        },
        "width": 1000,
        "xaxis": {
         "anchor": "y",
         "categoryarray": [
          "treatment2",
          "control",
          "treatment1"
         ],
         "categoryorder": "array",
         "domain": [
          0,
          1
         ],
         "title": {
          "text": "group"
         }
        },
        "yaxis": {
         "anchor": "x",
         "domain": [
          0,
          1
         ],
         "title": {
          "text": "count"
         }
        }
       }
      }
     },
     "metadata": {},
     "output_type": "display_data"
    }
   ],
   "source": [
    "visualizations = data_viz(data=df, \n",
    "                        group_column='group', \n",
    "                        value_column='outcome',\n",
    "                        viz_types=['boxplot', 'violinplot', 'histogram', 'countplot', 'heatmap'])"
   ]
  },
  {
   "cell_type": "markdown",
   "metadata": {},
   "source": [
    "## Test Results"
   ]
  },
  {
   "cell_type": "code",
   "execution_count": 5,
   "metadata": {},
   "outputs": [],
   "source": [
    "## Import library\n",
    "from ab_testing_module import ab_test"
   ]
  },
  {
   "cell_type": "code",
   "execution_count": 6,
   "metadata": {},
   "outputs": [],
   "source": [
    "df_results = ab_test(data=df, \n",
    "                    group_column='group', \n",
    "                    value_column='outcome', \n",
    "                    control_group='control', \n",
    "                    alpha=0.05, \n",
    "                    handle_outliers=None, \n",
    "                    mc_correction=None)"
   ]
  },
  {
   "cell_type": "code",
   "execution_count": 7,
   "metadata": {},
   "outputs": [
    {
     "data": {
      "text/html": [
       "<div>\n",
       "<style scoped>\n",
       "    .dataframe tbody tr th:only-of-type {\n",
       "        vertical-align: middle;\n",
       "    }\n",
       "\n",
       "    .dataframe tbody tr th {\n",
       "        vertical-align: top;\n",
       "    }\n",
       "\n",
       "    .dataframe thead th {\n",
       "        text-align: right;\n",
       "    }\n",
       "</style>\n",
       "<table border=\"1\" class=\"dataframe\">\n",
       "  <thead>\n",
       "    <tr style=\"text-align: right;\">\n",
       "      <th></th>\n",
       "      <th>Test</th>\n",
       "      <th>Test Statistic</th>\n",
       "      <th>P Value</th>\n",
       "      <th>Effect Size</th>\n",
       "      <th>Power</th>\n",
       "      <th>Interpretation</th>\n",
       "    </tr>\n",
       "  </thead>\n",
       "  <tbody>\n",
       "    <tr>\n",
       "      <th>0</th>\n",
       "      <td>Kruskal-Wallis</td>\n",
       "      <td>0.295984</td>\n",
       "      <td>0.862438</td>\n",
       "      <td>-0.005737</td>\n",
       "      <td>0.111</td>\n",
       "      <td>For the Kruskal-Wallis, a test statistic of 0.2960 and a p-value of 0.8624 provides insufficient evidence to reject the null hypothesis at the this level. The effect size is -0.0057. The power of the test is 0.1110, indicating a potential risk of Type II error (failing to detect a true effect).</td>\n",
       "    </tr>\n",
       "  </tbody>\n",
       "</table>\n",
       "</div>"
      ],
      "text/plain": [
       "             Test  Test Statistic   P Value  Effect Size  Power  \\\n",
       "0  Kruskal-Wallis        0.295984  0.862438    -0.005737  0.111   \n",
       "\n",
       "                                                                                                                                                                                                                                                                                            Interpretation  \n",
       "0  For the Kruskal-Wallis, a test statistic of 0.2960 and a p-value of 0.8624 provides insufficient evidence to reject the null hypothesis at the this level. The effect size is -0.0057. The power of the test is 0.1110, indicating a potential risk of Type II error (failing to detect a true effect).  "
      ]
     },
     "execution_count": 7,
     "metadata": {},
     "output_type": "execute_result"
    }
   ],
   "source": [
    "df_results"
   ]
  },
  {
   "cell_type": "markdown",
   "metadata": {},
   "source": [
    "## Advanced Modeling"
   ]
  },
  {
   "cell_type": "code",
   "execution_count": 8,
   "metadata": {},
   "outputs": [],
   "source": [
    "## Import library\n",
    "from ab_testing_module import modeling"
   ]
  },
  {
   "cell_type": "code",
   "execution_count": 9,
   "metadata": {},
   "outputs": [],
   "source": [
    "# Perform advanced modeling\n",
    "model_summaries, interpretations, model_summaries_df, interpretations_df = modeling(data=df, \n",
    "                                                                                    group_column='group', \n",
    "                                                                                    value_column='outcome', \n",
    "                                                                                    control_group='control')"
   ]
  },
  {
   "cell_type": "code",
   "execution_count": 10,
   "metadata": {},
   "outputs": [
    {
     "data": {
      "text/html": [
       "<div>\n",
       "<style scoped>\n",
       "    .dataframe tbody tr th:only-of-type {\n",
       "        vertical-align: middle;\n",
       "    }\n",
       "\n",
       "    .dataframe tbody tr th {\n",
       "        vertical-align: top;\n",
       "    }\n",
       "\n",
       "    .dataframe thead th {\n",
       "        text-align: right;\n",
       "    }\n",
       "</style>\n",
       "<table border=\"1\" class=\"dataframe\">\n",
       "  <thead>\n",
       "    <tr style=\"text-align: right;\">\n",
       "      <th></th>\n",
       "      <th>Term</th>\n",
       "      <th>Coefficient</th>\n",
       "      <th>Std Err</th>\n",
       "      <th>z or t</th>\n",
       "      <th>P&gt;|z|</th>\n",
       "      <th>Conf. Interval Lower</th>\n",
       "      <th>Conf. Interval Upper</th>\n",
       "    </tr>\n",
       "  </thead>\n",
       "  <tbody>\n",
       "    <tr>\n",
       "      <th>0</th>\n",
       "      <td>Linear Regression Model</td>\n",
       "      <td></td>\n",
       "      <td></td>\n",
       "      <td></td>\n",
       "      <td></td>\n",
       "      <td></td>\n",
       "      <td></td>\n",
       "    </tr>\n",
       "    <tr>\n",
       "      <th>1</th>\n",
       "      <td>Intercept</td>\n",
       "      <td>0.448759</td>\n",
       "      <td>0.115891</td>\n",
       "      <td>3.872245</td>\n",
       "      <td>0.000133</td>\n",
       "      <td>0.220687</td>\n",
       "      <td>0.676831</td>\n",
       "    </tr>\n",
       "    <tr>\n",
       "      <th>2</th>\n",
       "      <td>C(group)[T.treatment1]</td>\n",
       "      <td>0.049886</td>\n",
       "      <td>0.16606</td>\n",
       "      <td>0.300409</td>\n",
       "      <td>0.764075</td>\n",
       "      <td>-0.276917</td>\n",
       "      <td>0.376689</td>\n",
       "    </tr>\n",
       "    <tr>\n",
       "      <th>3</th>\n",
       "      <td>C(group)[T.treatment2]</td>\n",
       "      <td>0.136144</td>\n",
       "      <td>0.160802</td>\n",
       "      <td>0.846656</td>\n",
       "      <td>0.397869</td>\n",
       "      <td>-0.180312</td>\n",
       "      <td>0.4526</td>\n",
       "    </tr>\n",
       "  </tbody>\n",
       "</table>\n",
       "</div>"
      ],
      "text/plain": [
       "                      Term Coefficient   Std Err    z or t     P>|z|  \\\n",
       "0  Linear Regression Model                                             \n",
       "1                Intercept    0.448759  0.115891  3.872245  0.000133   \n",
       "2   C(group)[T.treatment1]    0.049886   0.16606  0.300409  0.764075   \n",
       "3   C(group)[T.treatment2]    0.136144  0.160802  0.846656  0.397869   \n",
       "\n",
       "  Conf. Interval Lower Conf. Interval Upper  \n",
       "0                                            \n",
       "1             0.220687             0.676831  \n",
       "2            -0.276917             0.376689  \n",
       "3            -0.180312               0.4526  "
      ]
     },
     "execution_count": 10,
     "metadata": {},
     "output_type": "execute_result"
    }
   ],
   "source": [
    "model_summaries_df"
   ]
  },
  {
   "cell_type": "code",
   "execution_count": 11,
   "metadata": {},
   "outputs": [
    {
     "data": {
      "text/html": [
       "<div>\n",
       "<style scoped>\n",
       "    .dataframe tbody tr th:only-of-type {\n",
       "        vertical-align: middle;\n",
       "    }\n",
       "\n",
       "    .dataframe tbody tr th {\n",
       "        vertical-align: top;\n",
       "    }\n",
       "\n",
       "    .dataframe thead th {\n",
       "        text-align: right;\n",
       "    }\n",
       "</style>\n",
       "<table border=\"1\" class=\"dataframe\">\n",
       "  <thead>\n",
       "    <tr style=\"text-align: right;\">\n",
       "      <th></th>\n",
       "      <th>Model Type</th>\n",
       "      <th>Interpretation</th>\n",
       "    </tr>\n",
       "  </thead>\n",
       "  <tbody>\n",
       "    <tr>\n",
       "      <th>0</th>\n",
       "      <td>Linear Regression Model Interpretation</td>\n",
       "      <td>Interpretation of the Linear Model: - The coefficient for Intercept is 0.4488, with a p-value of 0.0001. This implies that as the predictor increases by one unit, the dependent variable increases by 0.4488 units.</td>\n",
       "    </tr>\n",
       "  </tbody>\n",
       "</table>\n",
       "</div>"
      ],
      "text/plain": [
       "                               Model Type  \\\n",
       "0  Linear Regression Model Interpretation   \n",
       "\n",
       "                                                                                                                                                                                                          Interpretation  \n",
       "0  Interpretation of the Linear Model: - The coefficient for Intercept is 0.4488, with a p-value of 0.0001. This implies that as the predictor increases by one unit, the dependent variable increases by 0.4488 units.   "
      ]
     },
     "execution_count": 11,
     "metadata": {},
     "output_type": "execute_result"
    }
   ],
   "source": [
    "interpretations_df"
   ]
  }
 ],
 "metadata": {
  "kernelspec": {
   "display_name": "Python 3",
   "language": "python",
   "name": "python3"
  },
  "language_info": {
   "codemirror_mode": {
    "name": "ipython",
    "version": 3
   },
   "file_extension": ".py",
   "mimetype": "text/x-python",
   "name": "python",
   "nbconvert_exporter": "python",
   "pygments_lexer": "ipython3",
   "version": "3.12.0"
  }
 },
 "nbformat": 4,
 "nbformat_minor": 2
}
